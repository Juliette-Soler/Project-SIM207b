{
 "cells": [
  {
   "cell_type": "markdown",
   "metadata": {
    "collapsed": false
   },
   "source": [
    "# Projet d'économétrie"
   ]
  },
  {
   "cell_type": "markdown",
   "metadata": {
    "collapsed": true
   },
   "source": [
    "## Partie 1. Régréssion"
   ]
  },
  {
   "cell_type": "markdown",
   "metadata": {},
   "source": [
    "### Question 1"
   ]
  },
  {
   "cell_type": "code",
   "execution_count": 12,
   "metadata": {
    "collapsed": false
   },
   "outputs": [],
   "source": [
    "load MROZ.RAW\n",
    "\n",
    "% Le salaire est nul après la 428ème observation\n",
    "S=MROZ(1:428,:);"
   ]
  },
  {
   "cell_type": "markdown",
   "metadata": {},
   "source": [
    "### Question 2"
   ]
  },
  {
   "cell_type": "markdown",
   "metadata": {},
   "source": [
    "###### a) Pour l'ensemble des femmes"
   ]
  },
  {
   "cell_type": "code",
   "execution_count": 20,
   "metadata": {
    "collapsed": false
   },
   "outputs": [
    {
     "name": "stdout",
     "output_type": "stream",
     "text": [
      "Salaire:  moyenne = 4.1777  ecart-type = 3.3103  variance = 10.958\r\n",
      "Age:  moyenne = 41.972  ecart-type = 7.7211  variance = 59.6151\r\n",
      "Education:  moyenne = 12.6589  ecart-type = 2.2854  variance = 5.2229\n"
     ]
    }
   ],
   "source": [
    "salary = S(:,7);\n",
    "moyS = mean(salary);\n",
    "ecarS = std(salary);\n",
    "varS = var(salary);\n",
    "\n",
    "X1 = ['Salaire:  moyenne = ', num2str(moyS), '  ecart-type = ', num2str(ecarS), '  variance = ', num2str(varS)];\n",
    "disp(X1)\n",
    "\n",
    "age = S(:,5);\n",
    "moyA = mean(age);\n",
    "ecarA = std(age);\n",
    "varA = var(age);\n",
    "\n",
    "X2 = ['Age:  moyenne = ', num2str(moyA), '  ecart-type = ', num2str(ecarA), '  variance = ', num2str(varA)];\n",
    "disp(X2)\n",
    "\n",
    "educ = S(:,6);\n",
    "moyE = mean(educ);\n",
    "ecarE = std(educ);\n",
    "varE = var(educ);\n",
    "\n",
    "X3 = ['Education:  moyenne = ', num2str(moyE), '  ecart-type = ', num2str(ecarE), '  variance = ', num2str(varE)];\n",
    "disp(X3)"
   ]
  },
  {
   "cell_type": "markdown",
   "metadata": {},
   "source": [
    "##### b) Femmes dont le salaire du mari est supérieur à la médiane de l'échantillon"
   ]
  },
  {
   "cell_type": "code",
   "execution_count": 32,
   "metadata": {
    "collapsed": false
   },
   "outputs": [
    {
     "name": "stdout",
     "output_type": "stream",
     "text": [
      "Salaire:  moyenne = 4.8968  ecart-type = 4.0416  variance = 16.3346\r\n",
      "Age:  moyenne = 42.2757  ecart-type = 7.3888  variance = 54.595\r\n",
      "Education:  moyenne = 13.243  ecart-type = 2.359  variance = 5.5651\n"
     ]
    }
   ],
   "source": [
    "%%Le salaire des mari est placé colonne 12\n",
    "med = median(S(:,12));\n",
    "\n",
    "S2 = S((S(:,12)>med),:);\n",
    "\n",
    "salary2 = S2(:,7);\n",
    "moyS2 = mean(salary2);\n",
    "ecarS2 = std(salary2);\n",
    "varS2 = var(salary2);\n",
    "\n",
    "X4 = ['Salaire:  moyenne = ', num2str(moyS2), '  ecart-type = ', num2str(ecarS2), '  variance = ', num2str(varS2)];\n",
    "disp(X4)\n",
    "\n",
    "age2 = S2(:,5);\n",
    "moyA2 = mean(age2);\n",
    "ecarA2 = std(age2);\n",
    "varA2 = var(age2);\n",
    "\n",
    "X5 = ['Age:  moyenne = ', num2str(moyA2), '  ecart-type = ', num2str(ecarA2), '  variance = ', num2str(varA2)];\n",
    "disp(X5)\n",
    "\n",
    "educ2 = S2(:,6);\n",
    "moyE2 = mean(educ2);\n",
    "ecarE2 = std(educ2);\n",
    "varE2 = var(educ2);\n",
    "\n",
    "X6 = ['Education:  moyenne = ', num2str(moyE2), '  ecart-type = ', num2str(ecarE2), '  variance = ', num2str(varE2)];\n",
    "disp(X6)\n"
   ]
  },
  {
   "cell_type": "markdown",
   "metadata": {},
   "source": [
    "##### C) Femmes dont le salaire du mari est inférieur à la médiane de l'échantillon"
   ]
  },
  {
   "cell_type": "code",
   "execution_count": 33,
   "metadata": {
    "collapsed": false
   },
   "outputs": [
    {
     "name": "stdout",
     "output_type": "stream",
     "text": [
      "Salaire:  moyenne = 3.4585  ecart-type = 2.1433  variance = 4.5936\r\n",
      "Age:  moyenne = 41.6682  ecart-type = 8.0455  variance = 64.7298\r\n",
      "Education:  moyenne = 12.0748  ecart-type = 2.0542  variance = 4.2197\n"
     ]
    }
   ],
   "source": [
    "S3 = S((S(:,12)<med),:);\n",
    "\n",
    "salary3 = S3(:,7);\n",
    "moyS3 = mean(salary3);\n",
    "ecarS3 = std(salary3);\n",
    "varS3 = var(salary3);\n",
    "\n",
    "X7 = ['Salaire:  moyenne = ', num2str(moyS3), '  ecart-type = ', num2str(ecarS3), '  variance = ', num2str(varS3)];\n",
    "disp(X7)\n",
    "\n",
    "age3 = S3(:,5);\n",
    "moyA3 = mean(age3);\n",
    "ecarA3 = std(age3);\n",
    "varA3 = var(age3);\n",
    "\n",
    "X8 = ['Age:  moyenne = ', num2str(moyA3), '  ecart-type = ', num2str(ecarA3), '  variance = ', num2str(varA3)];\n",
    "disp(X8)\n",
    "\n",
    "educ3 = S3(:,6);\n",
    "moyE3 = mean(educ3);\n",
    "ecarE3 = std(educ3);\n",
    "varE3 = var(educ3);\n",
    "\n",
    "X9 = ['Education:  moyenne = ', num2str(moyE3), '  ecart-type = ', num2str(ecarE3), '  variance = ', num2str(varE3)];\n",
    "disp(X9)"
   ]
  },
  {
   "cell_type": "markdown",
   "metadata": {},
   "source": [
    "### Question 3"
   ]
  },
  {
   "cell_type": "code",
   "execution_count": 39,
   "metadata": {
    "collapsed": false
   },
   "outputs": [],
   "source": [
    "wage = S(:,7);\n",
    "lwage = log(S(:,7));"
   ]
  },
  {
   "cell_type": "code",
   "execution_count": 40,
   "metadata": {
    "collapsed": false
   },
   "outputs": [
    {
     "data": {
      "image/png": "[encoded data removed]",
      "text/plain": [
       "<IPython.core.display.Image object>"
      ]
     },
     "metadata": {},
     "output_type": "display_data"
    }
   ],
   "source": [
    "histogram(wage)"
   ]
  },
  {
   "cell_type": "code",
   "execution_count": null,
   "metadata": {
    "collapsed": true
   },
   "outputs": [],
   "source": [
    "histogram(wage)"
   ]
  },
  {
   "cell_type": "markdown",
   "metadata": {},
   "source": [
    "### Question 4"
   ]
  },
  {
   "cell_type": "code",
   "execution_count": null,
   "metadata": {
    "collapsed": true
   },
   "outputs": [],
   "source": []
  },
  {
   "cell_type": "markdown",
   "metadata": {},
   "source": [
    "#### Question 5"
   ]
  },
  {
   "cell_type": "markdown",
   "metadata": {},
   "source": [
    "#### Question 6"
   ]
  },
  {
   "cell_type": "markdown",
   "metadata": {},
   "source": [
    "## Partie 2. Séries temporelles"
   ]
  },
  {
   "cell_type": "code",
   "execution_count": null,
   "metadata": {
    "collapsed": true
   },
   "outputs": [],
   "source": []
  }
 ],
 "metadata": {
  "kernelspec": {
   "display_name": "Matlab",
   "language": "matlab",
   "name": "matlab"
  },
  "language_info": {
   "codemirror_mode": "octave",
   "file_extension": ".m",
   "help_links": [
    {
     "text": "MetaKernel Magics",
     "url": "https://github.com/calysto/metakernel/blob/master/metakernel/magics/README.md"
    }
   ],
   "mimetype": "text/x-octave",
   "name": "matlab",
   "version": "0.11.0"
  }
 },
 "nbformat": 4,
 "nbformat_minor": 0
}
