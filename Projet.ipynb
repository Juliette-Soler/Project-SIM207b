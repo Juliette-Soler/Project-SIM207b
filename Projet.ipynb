{
 "cells": [
  {
   "cell_type": "raw",
   "metadata": {},
   "source": [
    "<script>\n",
    "  function code_toggle() {\n",
    "    if (code_shown){\n",
    "      $('div.input').hide('500');\n",
    "      $('#toggleButton').val('Show Code')\n",
    "    } else {\n",
    "      $('div.input').show('500');\n",
    "      $('#toggleButton').val('Hide Code')\n",
    "    }\n",
    "    code_shown = !code_shown\n",
    "  }\n",
    "\n",
    "  $( document ).ready(function(){\n",
    "    code_shown=false;\n",
    "    $('div.input').hide()\n",
    "  });\n",
    "</script>\n",
    "<form action=\"javascript:code_toggle()\"><input type=\"submit\" id=\"toggleButton\" value=\"Show Code\"></form>"
   ]
  },
  {
   "cell_type": "markdown",
   "metadata": {
    "collapsed": false
   },
   "source": [
    "# Projet d'économétrie"
   ]
  },
  {
   "cell_type": "markdown",
   "metadata": {
    "collapsed": true
   },
   "source": [
    "## Partie 1. Régréssion"
   ]
  },
  {
   "cell_type": "markdown",
   "metadata": {},
   "source": [
    "### Question 1"
   ]
  },
  {
   "cell_type": "code",
   "execution_count": 1,
   "metadata": {
    "collapsed": false
   },
   "outputs": [],
   "source": [
    "load MROZ.RAW\n",
    "\n",
    "% Le salaire est nul après la 428ème observation\n",
    "S=MROZ(1:428,:);"
   ]
  },
  {
   "cell_type": "markdown",
   "metadata": {},
   "source": [
    "On remarque qu'après les 428 premières observations, la variable wage est systématiquement nulle. \n",
    "On ne sélectionne donc que ces 428 premières observations où wage est strictement positive."
   ]
  },
  {
   "cell_type": "markdown",
   "metadata": {},
   "source": [
    "### Question 2"
   ]
  },
  {
   "cell_type": "markdown",
   "metadata": {},
   "source": [
    "###### a) Pour l'ensemble des femmes"
   ]
  },
  {
   "cell_type": "code",
   "execution_count": 12,
   "metadata": {
    "collapsed": false
   },
   "outputs": [
    {
     "name": "stdout",
     "output_type": "stream",
     "text": [
      ".           moyenne  ecart-type   variance   max   min\r\n",
      "Salaire:    4.1777     3.3103      10.958    25    0.1282\r\n",
      "Age:        41.972     7.7211      59.6151   60    30\r\n",
      "Education:  12.6589    2.2854      5.2229    17    5\n"
     ]
    }
   ],
   "source": [
    "X = ['.           ','moyenne  ecart-type   variance   max   min'];\n",
    "disp(X)\n",
    "\n",
    "wage = S(:,7);\n",
    "moyW = mean(wage);\n",
    "ecarW = std(wage);\n",
    "varW = var(wage);\n",
    "maxW = max(wage);\n",
    "minW = min(wage);\n",
    "\n",
    "\n",
    "X1 = ['Salaire:    ', num2str(moyW),'     ', num2str(ecarW),'      ', num2str(varW),'    ', num2str(maxW), '    ', num2str(minW)];\n",
    "disp(X1)\n",
    "\n",
    "age = S(:,5);\n",
    "moyA = mean(age);\n",
    "ecarA = std(age);\n",
    "varA = var(age);\n",
    "maxA = max(age);\n",
    "minA = min(age);\n",
    "\n",
    "X2 = ['Age:        ', num2str(moyA), '     ', num2str(ecarA), '      ', num2str(varA),'   ', num2str(maxA), '    ', num2str(minA)];\n",
    "disp(X2)\n",
    "\n",
    "educ = S(:,6);\n",
    "moyE = mean(educ);\n",
    "ecarE = std(educ);\n",
    "varE = var(educ);\n",
    "maxE = max(educ);\n",
    "minE = min(educ);\n",
    "\n",
    "X3 = ['Education:  ', num2str(moyE), '    ', num2str(ecarE), '      ', num2str(varE),'    ', num2str(maxE), '    ', num2str(minE)];\n",
    "disp(X3)"
   ]
  },
  {
   "cell_type": "markdown",
   "metadata": {},
   "source": [
    "##### b) Femmes dont le salaire du mari est supérieur à la médiane de l'échantillon"
   ]
  },
  {
   "cell_type": "code",
   "execution_count": 18,
   "metadata": {
    "collapsed": false
   },
   "outputs": [
    {
     "name": "stdout",
     "output_type": "stream",
     "text": [
      ".           moyenne  ecart-type   variance   max   min\r\n",
      "Salaire:    4.8968     4.0416      16.3346   25    0.1616\r\n",
      "Age:        42.2757    7.3888      54.595    59    30\r\n",
      "Education:  13.243     2.359       5.5651    17    5\n"
     ]
    }
   ],
   "source": [
    "%%Le salaire des mari est placé colonne 12\n",
    "med = median(S(:,12));\n",
    "\n",
    "S2 = S((S(:,12)>med),:);\n",
    "\n",
    "disp(X)\n",
    "\n",
    "wage2 = S2(:,7);\n",
    "moyW2 = mean(wage2);\n",
    "ecarW2 = std(wage2);\n",
    "varW2 = var(wage2);\n",
    "maxW2 = max(wage2);\n",
    "minW2 = min(wage2);\n",
    "\n",
    "X4 = ['Salaire:    ', num2str(moyW2),'     ', num2str(ecarW2),'      ', num2str(varW2),'   ', num2str(maxW2), '    ', num2str(minW2)];\n",
    "disp(X4)\n",
    "\n",
    "age2 = S2(:,5);\n",
    "moyA2 = mean(age2);\n",
    "ecarA2 = std(age2);\n",
    "varA2 = var(age2);\n",
    "maxA2 = max(age2);\n",
    "minA2 = min(age2);\n",
    "\n",
    "X5 = ['Age:        ', num2str(moyA2), '    ', num2str(ecarA2), '      ', num2str(varA2),'    ', num2str(maxA2), '    ', num2str(minA2)];\n",
    "disp(X5)\n",
    "\n",
    "educ2 = S2(:,6);\n",
    "moyE2 = mean(educ2);\n",
    "ecarE2 = std(educ2);\n",
    "varE2 = var(educ2);\n",
    "maxE2 = max(educ2);\n",
    "minE2 = min(educ2);\n",
    " \n",
    "X6 = ['Education:  ', num2str(moyE2), '     ', num2str(ecarE2), '       ', num2str(varE2),'    ', num2str(maxE2), '    ', num2str(minE2)];\n",
    "disp(X6)"
   ]
  },
  {
   "cell_type": "markdown",
   "metadata": {},
   "source": [
    "##### C) Femmes dont le salaire du mari est inférieur à la médiane de l'échantillon"
   ]
  },
  {
   "cell_type": "code",
   "execution_count": 23,
   "metadata": {
    "collapsed": false
   },
   "outputs": [
    {
     "name": "stdout",
     "output_type": "stream",
     "text": [
      ".           moyenne  ecart-type   variance   max      min\r\n",
      "Salaire:    3.4585     2.1433      4.5936    18.267   0.1282\r\n",
      "Age:        41.6682    8.0455      64.7298   60       30\r\n",
      "Education:  12.0748    2.0542      4.2197    17       6\n"
     ]
    }
   ],
   "source": [
    "S3 = S((S(:,12)<med),:);\n",
    "\n",
    "X = ['.           ','moyenne  ecart-type   variance   max      min'];\n",
    "disp(X)\n",
    "\n",
    "wage3 = S3(:,7);\n",
    "moyW3 = mean(wage3);\n",
    "ecarW3 = std(wage3);\n",
    "varW3 = var(wage3);\n",
    "maxW3 = max(wage3);\n",
    "minW3 = min(wage3);\n",
    "\n",
    "X7 = ['Salaire:    ', num2str(moyW3),'     ', num2str(ecarW3),'      ', num2str(varW3),'    ', num2str(maxW3), '   ', num2str(minW3)];\n",
    "disp(X7)\n",
    "\n",
    "age3 = S3(:,5);\n",
    "moyA3 = mean(age3);\n",
    "ecarA3 = std(age3);\n",
    "varA3 = var(age3);\n",
    "maxA3 = max(age3);\n",
    "minA3 = min(age3);\n",
    "\n",
    "X8 = ['Age:        ', num2str(moyA3), '    ', num2str(ecarA3), '      ', num2str(varA3),'   ', num2str(maxA3), '       ', num2str(minA3)];\n",
    "disp(X8)\n",
    "\n",
    "educ3 = S3(:,6);\n",
    "moyE3 = mean(educ3);\n",
    "ecarE3 = std(educ3);\n",
    "varE3 = var(educ3);\n",
    "maxE3 = max(educ3);\n",
    "minE3 = min(educ3);\n",
    "\n",
    "X9 = ['Education:  ', num2str(moyE3), '    ', num2str(ecarE3), '      ', num2str(varE3),'    ', num2str(maxE3), '       ', num2str(minE3)];\n",
    "disp(X9)"
   ]
  },
  {
   "cell_type": "markdown",
   "metadata": {},
   "source": [
    "### Question 3"
   ]
  },
  {
   "cell_type": "code",
   "execution_count": 24,
   "metadata": {
    "collapsed": false
   },
   "outputs": [],
   "source": [
    "wage = S(:,7);\n",
    "lwage = log(S(:,7));"
   ]
  },
  {
   "cell_type": "code",
   "execution_count": 25,
   "metadata": {
    "collapsed": false
   },
   "outputs": [
    {
     "data": {
      "image/png": "[encoded data removed]",
      "text/plain": [
       "<IPython.core.display.Image object>"
      ]
     },
     "metadata": {},
     "output_type": "display_data"
    }
   ],
   "source": [
    "histogram(wage)"
   ]
  },
  {
   "cell_type": "code",
   "execution_count": 26,
   "metadata": {
    "collapsed": false
   },
   "outputs": [
    {
     "data": {
      "image/png": "[encoded data removed]",
      "text/plain": [
       "<IPython.core.display.Image object>"
      ]
     },
     "metadata": {},
     "output_type": "display_data"
    }
   ],
   "source": [
    "histogram(lwage)"
   ]
  },
  {
   "cell_type": "markdown",
   "metadata": {
    "collapsed": true
   },
   "source": [
    "On constate qu’à la différence de wage, lwage possède une distribution assez similaire à une gaussienne centrée en 0, ce qui correspond au cas linéaire classique. De plus, on remarque que l’écart-type est plus faible avec la variable lwage où les valeurs sont plus resserrées. C’est donc préférable d’utiliser cette variable pour analyser les observations. "
   ]
  },
  {
   "cell_type": "markdown",
   "metadata": {},
   "source": [
    "### Question 4"
   ]
  },
  {
   "cell_type": "code",
   "execution_count": 10,
   "metadata": {
    "collapsed": false
   },
   "outputs": [
    {
     "name": "stdout",
     "output_type": "stream",
     "text": [
      "corMotheduc =\r\n",
      "\r\n",
      "    1.0000    0.0571\r\n",
      "    0.0571    1.0000\r\n",
      "\r\n",
      "\r\n",
      "corFatheduc =\r\n",
      "\r\n",
      "    1.0000    0.1077\r\n",
      "    0.1077    1.0000\n"
     ]
    }
   ],
   "source": [
    "%Corrélation motheduc sur le salaire\n",
    "\n",
    "corMotheduc = corrcoef(S(:,7),S(:,15))\n",
    "\n",
    "%Corrélation fatheduc sur le salaire\n",
    "\n",
    "corFatheduc = corrcoef(S(:,7),S(:,16))\n",
    "\n"
   ]
  },
  {
   "cell_type": "code",
   "execution_count": 11,
   "metadata": {
    "collapsed": true
   },
   "outputs": [],
   "source": [
    "%% \"Commentez, y a-t-il un problème de multicolinéarité si l'on utilise ces variables comme variables explicatives?\"\n",
    "\n",
    "\n",
    "%%Ce que je propose:\n",
    "%%L'influence de l'éducation de la mère semble plus forte que celle du père cependant il y a problème de multicolinéarité \n",
    "%%car probablement, plus la mère est éduquée plus le père est éduqyé et inversement.  "
   ]
  },
  {
   "cell_type": "markdown",
   "metadata": {},
   "source": [
    "### Question 5"
   ]
  },
  {
   "cell_type": "markdown",
   "metadata": {},
   "source": [
    "##### a) Graphique entre wage et educ"
   ]
  },
  {
   "cell_type": "code",
   "execution_count": 12,
   "metadata": {
    "collapsed": false
   },
   "outputs": [
    {
     "data": {
      "image/png": "[encoded data removed]",
      "text/plain": [
       "<IPython.core.display.Image object>"
      ]
     },
     "metadata": {},
     "output_type": "display_data"
    }
   ],
   "source": [
    "scatter(S(:,6),S(:,7), 15, 'filled')"
   ]
  },
  {
   "cell_type": "markdown",
   "metadata": {},
   "source": [
    "##### b) Graphique entre wage et expr"
   ]
  },
  {
   "cell_type": "code",
   "execution_count": 13,
   "metadata": {
    "collapsed": false
   },
   "outputs": [
    {
     "data": {
      "image/png": "[encoded data removed]",
      "text/plain": [
       "<IPython.core.display.Image object>"
      ]
     },
     "metadata": {},
     "output_type": "display_data"
    }
   ],
   "source": [
    "scatter(S(:,19),S(:,7), 15, 'filled')"
   ]
  },
  {
   "cell_type": "markdown",
   "metadata": {},
   "source": [
    "##### c) Graphique entre wage et fatheduc"
   ]
  },
  {
   "cell_type": "code",
   "execution_count": 14,
   "metadata": {
    "collapsed": false
   },
   "outputs": [
    {
     "data": {
      "image/png": "[encoded data removed]",
      "text/plain": [
       "<IPython.core.display.Image object>"
      ]
     },
     "metadata": {},
     "output_type": "display_data"
    }
   ],
   "source": [
    "scatter(S(:,16),S(:,7), 15, 'filled')"
   ]
  },
  {
   "cell_type": "code",
   "execution_count": 15,
   "metadata": {
    "collapsed": true
   },
   "outputs": [],
   "source": [
    "%% Commentez\n",
    "\n",
    "%% Non pas toutes choses égales par ailleurs"
   ]
  },
  {
   "cell_type": "markdown",
   "metadata": {},
   "source": [
    "### Question 6"
   ]
  },
  {
   "cell_type": "markdown",
   "metadata": {},
   "source": [
    "### Question 7"
   ]
  },
  {
   "cell_type": "code",
   "execution_count": 16,
   "metadata": {
    "collapsed": false
   },
   "outputs": [],
   "source": [
    "wage = S(:,7);\n",
    "city = S(:,18);\n",
    "educ = S(:,6);\n",
    "expr = S(:,19);\n",
    "nwifeinc = S(:,20);\n",
    "kidslt6 = S(:,3);\n",
    "kidsge6 = S(:,4);\n",
    "\n",
    "y=wage;\n",
    "[n,K] = size(S);\n",
    "X=[ones(n,1), city, educ, expr, nwifeinc, kidslt6, kidsge6];\n",
    "\n",
    "beta=inv(X'*X)*X'*y;\n",
    "u=y-X*beta;"
   ]
  },
  {
   "cell_type": "code",
   "execution_count": 17,
   "metadata": {
    "collapsed": false
   },
   "outputs": [
    {
     "data": {
      "image/png": "[encoded data removed]",
      "text/plain": [
       "<IPython.core.display.Image object>"
      ]
     },
     "metadata": {},
     "output_type": "display_data"
    }
   ],
   "source": [
    "histogram(u)\n",
    "%% Je suis pas sûre mais il me semble que c'est ça les résidus"
   ]
  },
  {
   "cell_type": "code",
   "execution_count": 18,
   "metadata": {
    "collapsed": true
   },
   "outputs": [],
   "source": [
    "%% Commentez"
   ]
  },
  {
   "cell_type": "markdown",
   "metadata": {},
   "source": [
    "### Question 8"
   ]
  },
  {
   "cell_type": "code",
   "execution_count": 19,
   "metadata": {
    "collapsed": true
   },
   "outputs": [],
   "source": [
    "y1=log(wage);\n",
    "[n,K] = size(S);\n",
    "X1=[ones(n,1), city, educ, expr, nwifeinc, kidslt6, kidsge6];\n",
    "\n",
    "beta1=inv(X1'*X1)*X1'*y1;\n",
    "u1=y1-X1*beta1;"
   ]
  },
  {
   "cell_type": "code",
   "execution_count": 20,
   "metadata": {
    "collapsed": false
   },
   "outputs": [
    {
     "data": {
      "image/png": "[encoded data removed]",
      "text/plain": [
       "<IPython.core.display.Image object>"
      ]
     },
     "metadata": {},
     "output_type": "display_data"
    }
   ],
   "source": [
    "histogram(u1)"
   ]
  },
  {
   "cell_type": "code",
   "execution_count": 21,
   "metadata": {
    "collapsed": true
   },
   "outputs": [],
   "source": [
    "%% Comparez les histo"
   ]
  },
  {
   "cell_type": "markdown",
   "metadata": {},
   "source": [
    "### Question 9"
   ]
  },
  {
   "cell_type": "code",
   "execution_count": 22,
   "metadata": {
    "collapsed": true
   },
   "outputs": [],
   "source": [
    "lwage = log(wage);"
   ]
  },
  {
   "cell_type": "code",
   "execution_count": 23,
   "metadata": {
    "collapsed": true
   },
   "outputs": [],
   "source": [
    "% H0: BetaExpr = 0\n",
    "\n",
    "y=lwage;\n",
    "[n,K] = size(S);\n",
    "X=[ones(n,1), city, educ, expr, nwifeinc, kidslt6, kidsge6];\n",
    "\n",
    "beta=inv(X'*X)*X'*y;\n",
    "u=y-X*beta;\n",
    "\n",
    "sig2=u'*u/(n-4); \n",
    "std=sqrt(diag(sig2*inv(X'*X)));\n",
    "\n",
    "t=beta./std;"
   ]
  },
  {
   "cell_type": "markdown",
   "metadata": {},
   "source": [
    "##### Seuil à 1%"
   ]
  },
  {
   "cell_type": "code",
   "execution_count": 24,
   "metadata": {
    "collapsed": false
   },
   "outputs": [
    {
     "name": "stdout",
     "output_type": "stream",
     "text": [
      "t(4) = 3.464\r\n",
      "tdis = 2.3351\n"
     ]
    }
   ],
   "source": [
    "% expr est en paramètre 4:\n",
    "disp(['t(4) = ', num2str(t(4))])\n",
    "disp(['tdis = ', num2str(tdis_inv(0.99, 428))])"
   ]
  },
  {
   "cell_type": "code",
   "execution_count": 25,
   "metadata": {
    "collapsed": true
   },
   "outputs": [],
   "source": [
    "% Ici 3,5>2,3 on est donc à droite\n",
    "% -> On rejette l'hypothèse à 1%\n",
    "% -> betaExpr est différent de 0"
   ]
  },
  {
   "cell_type": "markdown",
   "metadata": {},
   "source": [
    "##### Seuil à 5%"
   ]
  },
  {
   "cell_type": "code",
   "execution_count": 26,
   "metadata": {
    "collapsed": false
   },
   "outputs": [
    {
     "name": "stdout",
     "output_type": "stream",
     "text": [
      "t(4) = 3.464\r\n",
      "tdis = 1.6484\n"
     ]
    }
   ],
   "source": [
    "disp(['t(4) = ', num2str(t(4))])\n",
    "disp(['tdis = ', num2str(tdis_inv(0.95, 428))])"
   ]
  },
  {
   "cell_type": "code",
   "execution_count": 27,
   "metadata": {
    "collapsed": true
   },
   "outputs": [],
   "source": [
    "% Ici 3,5>1,6 on est donc à droite\n",
    "% -> On rejette l'hypothèse à 5%\n",
    "% -> betaExpr est différent de 0"
   ]
  },
  {
   "cell_type": "markdown",
   "metadata": {},
   "source": [
    "##### Seuil à 10%"
   ]
  },
  {
   "cell_type": "code",
   "execution_count": 28,
   "metadata": {
    "collapsed": false
   },
   "outputs": [
    {
     "name": "stdout",
     "output_type": "stream",
     "text": [
      "t(4) = 3.464\r\n",
      "tdis = 1.2835\n"
     ]
    }
   ],
   "source": [
    "disp(['t(4) = ', num2str(t(4))])\n",
    "disp(['tdis = ', num2str(tdis_inv(0.90, 428))])"
   ]
  },
  {
   "cell_type": "code",
   "execution_count": 29,
   "metadata": {
    "collapsed": true
   },
   "outputs": [],
   "source": [
    "% Ici 3,5>1,3 on est donc à droite\n",
    "% -> On rejette l'hypothèse à 10%\n",
    "% -> betaExpr est différent de 0"
   ]
  },
  {
   "cell_type": "code",
   "execution_count": 30,
   "metadata": {
    "collapsed": true
   },
   "outputs": [],
   "source": [
    "% Commentez les p-values"
   ]
  },
  {
   "cell_type": "markdown",
   "metadata": {},
   "source": [
    "### Question 10"
   ]
  },
  {
   "cell_type": "code",
   "execution_count": 32,
   "metadata": {
    "collapsed": true
   },
   "outputs": [],
   "source": [
    "% H0: BetaExpr = 10%\n",
    "t=beta-0.1./std;"
   ]
  },
  {
   "cell_type": "code",
   "execution_count": 33,
   "metadata": {
    "collapsed": false
   },
   "outputs": [
    {
     "name": "stdout",
     "output_type": "stream",
     "text": [
      "t(3) = -6.543\r\n",
      "tdis = 1.6484\n"
     ]
    }
   ],
   "source": [
    "disp(['t(3) = ', num2str(t(3))])\n",
    "disp(['tdis = ', num2str(tdis_inv(0.95, 428))])"
   ]
  },
  {
   "cell_type": "code",
   "execution_count": 34,
   "metadata": {
    "collapsed": true
   },
   "outputs": [],
   "source": [
    "% Ici 6,5>1,6 on est donc à droite \n",
    "% -> On rejette l'hypothèse à 5%\n",
    "% -> betaEduc est différent de 10%"
   ]
  },
  {
   "cell_type": "markdown",
   "metadata": {},
   "source": [
    "### Question 11"
   ]
  },
  {
   "cell_type": "markdown",
   "metadata": {},
   "source": [
    "Hypothèse: <br>\n",
    "&emsp; betaEduc = 0,1 <br>\n",
    "&emsp; betaExpr = 0,05\n",
    "\n",
    "-> betaEduc = 2betaExpr\n",
    "\n",
    "y = beta0 + beta1X1 + 2betaExpr*educ + betaExpr*expr + beta4X4 + beta5X5 <br>\n",
    "y = beta0 + beta1X1 + betaExpr*(2educ + expr) + beta4X4 + beta5X5"
   ]
  },
  {
   "cell_type": "code",
   "execution_count": null,
   "metadata": {
    "collapsed": true
   },
   "outputs": [],
   "source": []
  },
  {
   "cell_type": "markdown",
   "metadata": {},
   "source": [
    "## Partie 2. Séries temporelles"
   ]
  },
  {
   "cell_type": "code",
   "execution_count": null,
   "metadata": {
    "collapsed": true
   },
   "outputs": [],
   "source": []
  }
 ],
 "metadata": {
  "kernelspec": {
   "display_name": "Matlab",
   "language": "matlab",
   "name": "matlab"
  },
  "language_info": {
   "codemirror_mode": "octave",
   "file_extension": ".m",
   "help_links": [
    {
     "text": "MetaKernel Magics",
     "url": "https://github.com/calysto/metakernel/blob/master/metakernel/magics/README.md"
    }
   ],
   "mimetype": "text/x-octave",
   "name": "matlab",
   "version": "0.11.0"
  }
 },
 "nbformat": 4,
 "nbformat_minor": 0
}
