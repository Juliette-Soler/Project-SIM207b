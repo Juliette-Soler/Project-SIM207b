{
 "cells": [
  {
   "cell_type": "raw",
   "metadata": {},
   "source": [
    "<script>\n",
    "  function code_toggle() {\n",
    "    if (code_shown){\n",
    "      $('div.input').hide('500');\n",
    "      $('#toggleButton').val('Show Code')\n",
    "    } else {\n",
    "      $('div.input').show('500');\n",
    "      $('#toggleButton').val('Hide Code')\n",
    "    }\n",
    "    code_shown = !code_shown\n",
    "  }\n",
    "\n",
    "  $( document ).ready(function(){\n",
    "    code_shown=false;\n",
    "    $('div.input').hide()\n",
    "  });\n",
    "</script>\n",
    "<form action=\"javascript:code_toggle()\"><input type=\"submit\" id=\"toggleButton\" value=\"Show Code\"></form>"
   ]
  },
  {
   "cell_type": "markdown",
   "metadata": {
    "collapsed": false
   },
   "source": [
    "# Projet d'économétrie"
   ]
  },
  {
   "cell_type": "markdown",
   "metadata": {
    "collapsed": true
   },
   "source": [
    "## Partie 1. Régression"
   ]
  },
  {
   "cell_type": "markdown",
   "metadata": {},
   "source": [
    "### Question 1"
   ]
  },
  {
   "cell_type": "code",
   "execution_count": 1,
   "metadata": {
    "collapsed": false
   },
   "outputs": [],
   "source": [
    "load MROZ.RAW\n",
    "\n",
    "% Le salaire est nul après la 428ème observation\n",
    "S=MROZ(1:428,:);"
   ]
  },
  {
   "cell_type": "markdown",
   "metadata": {},
   "source": [
    "On observe que seules les 428 premières observations sont strictement positives pour la variable wage. Comme demandé, on ne prendra en compte que ces observations."
   ]
  },
  {
   "cell_type": "markdown",
   "metadata": {},
   "source": [
    "### Question 2"
   ]
  },
  {
   "cell_type": "markdown",
   "metadata": {},
   "source": [
    "###### a) Pour l'ensemble des femmes"
   ]
  },
  {
   "cell_type": "code",
   "execution_count": 2,
   "metadata": {
    "collapsed": false
   },
   "outputs": [
    {
     "name": "stdout",
     "output_type": "stream",
     "text": [
      ".           moyenne  ecart-type   variance   max   min\r\n",
      "Salaire:    4.1777     3.3103      10.958    25    0.1282\r\n",
      "Age:        41.972     7.7211      59.6151   60    30\r\n",
      "Education:  12.6589    2.2854      5.2229    17    5\n"
     ]
    }
   ],
   "source": [
    "X = ['.           ','moyenne  ecart-type   variance   max   min'];\n",
    "disp(X)\n",
    "\n",
    "wage = S(:,7);\n",
    "moyW = mean(wage);\n",
    "ecarW = std(wage);\n",
    "varW = var(wage);\n",
    "maxW = max(wage);\n",
    "minW = min(wage);\n",
    "\n",
    "\n",
    "X1 = ['Salaire:    ', num2str(moyW),'     ', num2str(ecarW),'      ', num2str(varW),'    ', num2str(maxW), '    ', num2str(minW)];\n",
    "disp(X1)\n",
    "\n",
    "age = S(:,5);\n",
    "moyA = mean(age);\n",
    "ecarA = std(age);\n",
    "varA = var(age);\n",
    "maxA = max(age);\n",
    "minA = min(age);\n",
    "\n",
    "X2 = ['Age:        ', num2str(moyA), '     ', num2str(ecarA), '      ', num2str(varA),'   ', num2str(maxA), '    ', num2str(minA)];\n",
    "disp(X2)\n",
    "\n",
    "educ = S(:,6);\n",
    "moyE = mean(educ);\n",
    "ecarE = std(educ);\n",
    "varE = var(educ);\n",
    "maxE = max(educ);\n",
    "minE = min(educ);\n",
    "\n",
    "X3 = ['Education:  ', num2str(moyE), '    ', num2str(ecarE), '      ', num2str(varE),'    ', num2str(maxE), '    ', num2str(minE)];\n",
    "disp(X3)"
   ]
  },
  {
   "cell_type": "markdown",
   "metadata": {},
   "source": [
    "##### b) Femmes dont le salaire du mari est supérieur à la médiane de l'échantillon"
   ]
  },
  {
   "cell_type": "code",
   "execution_count": 3,
   "metadata": {
    "collapsed": false
   },
   "outputs": [
    {
     "name": "stdout",
     "output_type": "stream",
     "text": [
      ".           moyenne  ecart-type   variance   max   min\r\n",
      "Salaire:    4.8968     4.0416      16.3346   25    0.1616\r\n",
      "Age:        42.2757    7.3888      54.595    59    30\r\n",
      "Education:  13.243     2.359       5.5651    17    5\n"
     ]
    }
   ],
   "source": [
    "%%Le salaire des mari est placé colonne 12\n",
    "med = median(S(:,12));\n",
    "\n",
    "S2 = S((S(:,12)>med),:);\n",
    "\n",
    "disp(X)\n",
    "\n",
    "wage2 = S2(:,7);\n",
    "moyW2 = mean(wage2);\n",
    "ecarW2 = std(wage2);\n",
    "varW2 = var(wage2);\n",
    "maxW2 = max(wage2);\n",
    "minW2 = min(wage2);\n",
    "\n",
    "X4 = ['Salaire:    ', num2str(moyW2),'     ', num2str(ecarW2),'      ', num2str(varW2),'   ', num2str(maxW2), '    ', num2str(minW2)];\n",
    "disp(X4)\n",
    "\n",
    "age2 = S2(:,5);\n",
    "moyA2 = mean(age2);\n",
    "ecarA2 = std(age2);\n",
    "varA2 = var(age2);\n",
    "maxA2 = max(age2);\n",
    "minA2 = min(age2);\n",
    "\n",
    "X5 = ['Age:        ', num2str(moyA2), '    ', num2str(ecarA2), '      ', num2str(varA2),'    ', num2str(maxA2), '    ', num2str(minA2)];\n",
    "disp(X5)\n",
    "\n",
    "educ2 = S2(:,6);\n",
    "moyE2 = mean(educ2);\n",
    "ecarE2 = std(educ2);\n",
    "varE2 = var(educ2);\n",
    "maxE2 = max(educ2);\n",
    "minE2 = min(educ2);\n",
    " \n",
    "X6 = ['Education:  ', num2str(moyE2), '     ', num2str(ecarE2), '       ', num2str(varE2),'    ', num2str(maxE2), '    ', num2str(minE2)];\n",
    "disp(X6)"
   ]
  },
  {
   "cell_type": "markdown",
   "metadata": {},
   "source": [
    "##### C) Femmes dont le salaire du mari est inférieur à la médiane de l'échantillon"
   ]
  },
  {
   "cell_type": "code",
   "execution_count": 4,
   "metadata": {
    "collapsed": false
   },
   "outputs": [
    {
     "name": "stdout",
     "output_type": "stream",
     "text": [
      ".           moyenne  ecart-type   variance   max      min\r\n",
      "Salaire:    3.4585     2.1433      4.5936    18.267   0.1282\r\n",
      "Age:        41.6682    8.0455      64.7298   60       30\r\n",
      "Education:  12.0748    2.0542      4.2197    17       6\n"
     ]
    }
   ],
   "source": [
    "S3 = S((S(:,12)<med),:);\n",
    "\n",
    "X = ['.           ','moyenne  ecart-type   variance   max      min'];\n",
    "disp(X)\n",
    "\n",
    "wage3 = S3(:,7);\n",
    "moyW3 = mean(wage3);\n",
    "ecarW3 = std(wage3);\n",
    "varW3 = var(wage3);\n",
    "maxW3 = max(wage3);\n",
    "minW3 = min(wage3);\n",
    "\n",
    "X7 = ['Salaire:    ', num2str(moyW3),'     ', num2str(ecarW3),'      ', num2str(varW3),'    ', num2str(maxW3), '   ', num2str(minW3)];\n",
    "disp(X7)\n",
    "\n",
    "age3 = S3(:,5);\n",
    "moyA3 = mean(age3);\n",
    "ecarA3 = std(age3);\n",
    "varA3 = var(age3);\n",
    "maxA3 = max(age3);\n",
    "minA3 = min(age3);\n",
    "\n",
    "X8 = ['Age:        ', num2str(moyA3), '    ', num2str(ecarA3), '      ', num2str(varA3),'   ', num2str(maxA3), '       ', num2str(minA3)];\n",
    "disp(X8)\n",
    "\n",
    "educ3 = S3(:,6);\n",
    "moyE3 = mean(educ3);\n",
    "ecarE3 = std(educ3);\n",
    "varE3 = var(educ3);\n",
    "maxE3 = max(educ3);\n",
    "minE3 = min(educ3);\n",
    "\n",
    "X9 = ['Education:  ', num2str(moyE3), '    ', num2str(ecarE3), '      ', num2str(varE3),'    ', num2str(maxE3), '       ', num2str(minE3)];\n",
    "disp(X9)"
   ]
  },
  {
   "cell_type": "markdown",
   "metadata": {},
   "source": [
    "Les statistiques descriptives sur l’âge et les années d’éducation sont globalement toutes similaires suivant les catégories.\n",
    "En revanche, on voit apparaître un salaire moyen plus élevé mais avec un écart-type aussi plus important pour les femmes dont le mari est au-dessus de la médiane, par rapport à celles dont le mari est en-dessous de la médiane."
   ]
  },
  {
   "cell_type": "markdown",
   "metadata": {},
   "source": [
    "### Question 3"
   ]
  },
  {
   "cell_type": "code",
   "execution_count": 5,
   "metadata": {
    "collapsed": false
   },
   "outputs": [],
   "source": [
    "wage = S(:,7);\n",
    "lwage = log(S(:,7));"
   ]
  },
  {
   "cell_type": "markdown",
   "metadata": {},
   "source": [
    "#### &emsp; &emsp; &emsp; &emsp; &emsp; &emsp; &emsp; Histogramme de la variable wage"
   ]
  },
  {
   "cell_type": "code",
   "execution_count": 6,
   "metadata": {
    "collapsed": false
   },
   "outputs": [
    {
     "data": {
      "image/png": "[encoded data removed]",
      "text/plain": [
       "<IPython.core.display.Image object>"
      ]
     },
     "metadata": {},
     "output_type": "display_data"
    }
   ],
   "source": [
    "histogram(wage)"
   ]
  },
  {
   "cell_type": "markdown",
   "metadata": {},
   "source": [
    "#### &emsp; &emsp; &emsp; &emsp; &emsp; &emsp; &emsp; Histogramme de la variable lwage"
   ]
  },
  {
   "cell_type": "code",
   "execution_count": 7,
   "metadata": {
    "collapsed": false
   },
   "outputs": [
    {
     "data": {
      "image/png": "[encoded data removed]",
      "text/plain": [
       "<IPython.core.display.Image object>"
      ]
     },
     "metadata": {},
     "output_type": "display_data"
    }
   ],
   "source": [
    "histogram(lwage)"
   ]
  },
  {
   "cell_type": "markdown",
   "metadata": {
    "collapsed": true
   },
   "source": [
    "On remarque que la variable lwage approche la forme d’une loi gaussienne, ce qui correspond au cas linéaire classique. Nous utiliserons donc cette variable pour la suite."
   ]
  },
  {
   "cell_type": "markdown",
   "metadata": {},
   "source": [
    "### Question 4"
   ]
  },
  {
   "cell_type": "markdown",
   "metadata": {},
   "source": [
    "Nous souhaitons déterminer les corrélations motheduc et fatheduc avec la variable wage, présents aux colonnes 15 et\n",
    "16 du fichier MROZ.raw"
   ]
  },
  {
   "cell_type": "code",
   "execution_count": 8,
   "metadata": {
    "collapsed": false
   },
   "outputs": [
    {
     "name": "stdout",
     "output_type": "stream",
     "text": [
      "corMotheduc =\r\n",
      "\r\n",
      "    1.0000    0.0571\r\n",
      "    0.0571    1.0000\r\n",
      "\r\n",
      "\r\n",
      "corFatheduc =\r\n",
      "\r\n",
      "    1.0000    0.1077\r\n",
      "    0.1077    1.0000\n"
     ]
    }
   ],
   "source": [
    "%Corrélation motheduc sur le salaire\n",
    "\n",
    "corMotheduc = corrcoef(S(:,7),S(:,15))\n",
    "\n",
    "%Corrélation fatheduc sur le salaire\n",
    "\n",
    "corFatheduc = corrcoef(S(:,7),S(:,16))\n",
    "\n"
   ]
  },
  {
   "cell_type": "markdown",
   "metadata": {
    "collapsed": true
   },
   "source": [
    "L'influence de l'éducation de père semble plus forte que celle de la mère cependant il y a problème de multicolinéarité \n",
    "car probablement, plus la mère est éduquée plus le père est éduqué et inversement. <br>\n",
    "<br>\n",
    "\n",
    "On calcul la corrélation entre motheduc et fatheduc:"
   ]
  },
  {
   "cell_type": "code",
   "execution_count": 9,
   "metadata": {
    "collapsed": false
   },
   "outputs": [
    {
     "name": "stdout",
     "output_type": "stream",
     "text": [
      "cor_Motheduc_Fatheduc =\r\n",
      "\r\n",
      "    1.0000    0.5541\r\n",
      "    0.5541    1.0000\n"
     ]
    }
   ],
   "source": [
    "cor_Motheduc_Fatheduc = corrcoef(S(:,16),S(:,15))"
   ]
  },
  {
   "cell_type": "markdown",
   "metadata": {},
   "source": [
    "On constate effectivement une corrélation, il y a donc problème de multicolinéarité. "
   ]
  },
  {
   "cell_type": "markdown",
   "metadata": {},
   "source": [
    "### Question 5"
   ]
  },
  {
   "cell_type": "markdown",
   "metadata": {},
   "source": [
    "##### a) Graphique entre wage et educ"
   ]
  },
  {
   "cell_type": "code",
   "execution_count": 10,
   "metadata": {
    "collapsed": false
   },
   "outputs": [
    {
     "data": {
      "image/png": "[encoded data removed]",
      "text/plain": [
       "<IPython.core.display.Image object>"
      ]
     },
     "metadata": {},
     "output_type": "display_data"
    }
   ],
   "source": [
    "scatter(S(:,6),S(:,7), 15, 'filled')"
   ]
  },
  {
   "cell_type": "markdown",
   "metadata": {},
   "source": [
    "#### &emsp; &emsp; &emsp; &emsp; &emsp; &emsp; &emsp; Evolution de la variable wage en fonction de educ"
   ]
  },
  {
   "cell_type": "markdown",
   "metadata": {},
   "source": [
    "On voit tout d’abord que quelque soit l'education, le salaire minimum à peu près similaire. En revanche plus le nombre d’années d’éducation est élevé, plus on atteint un salaire maximum et une moyenne élevés mais également une grande disparité dans les salaires.\n",
    "Donc l'évolution du salaire est linéaire avec un écart-type qui augmente avec l'éducation."
   ]
  },
  {
   "cell_type": "markdown",
   "metadata": {},
   "source": [
    "##### b) Graphique entre wage et expr"
   ]
  },
  {
   "cell_type": "code",
   "execution_count": 11,
   "metadata": {
    "collapsed": false
   },
   "outputs": [
    {
     "data": {
      "image/png": "[encoded data removed]",
      "text/plain": [
       "<IPython.core.display.Image object>"
      ]
     },
     "metadata": {},
     "output_type": "display_data"
    }
   ],
   "source": [
    "scatter(S(:,19),S(:,7), 15, 'filled')"
   ]
  },
  {
   "cell_type": "markdown",
   "metadata": {},
   "source": [
    "#### &emsp; &emsp; &emsp; &emsp; &emsp; &emsp; &emsp; Evolution de la variable wage en fonction de exper"
   ]
  },
  {
   "cell_type": "markdown",
   "metadata": {},
   "source": [
    "Ici malgré quelques \"abérrations\" on constate une légère pente positive, donc plus on a de l'expérience plus haut est le salaire. Mais l'influence de l'expérience semble bien plus faible que celle de l'éducation."
   ]
  },
  {
   "cell_type": "markdown",
   "metadata": {},
   "source": [
    "##### c) Graphique entre wage et fatheduc"
   ]
  },
  {
   "cell_type": "code",
   "execution_count": 12,
   "metadata": {
    "collapsed": false
   },
   "outputs": [
    {
     "data": {
      "image/png": "[encoded data removed]",
      "text/plain": [
       "<IPython.core.display.Image object>"
      ]
     },
     "metadata": {},
     "output_type": "display_data"
    }
   ],
   "source": [
    "scatter(S(:,16),S(:,7), 15, 'filled')"
   ]
  },
  {
   "cell_type": "markdown",
   "metadata": {},
   "source": [
    "#### &emsp; &emsp; &emsp; &emsp; &emsp; &emsp; &emsp; Evolution de la variable wage en fonction de fatheduc"
   ]
  },
  {
   "cell_type": "markdown",
   "metadata": {
    "collapsed": true
   },
   "source": [
    "Ici on ne constate pas de corrélation évidente. <br>\n",
    "<br>\n",
    "\n",
    "Ces graphiques ne sont pas obtenus \"toute chose égale par ailleurs\". En effet pour chacune de ces observations les autres variables ne sont pas fixées et peuvent varier fortement. \n",
    "Pour un même salaire et une même education, on peut avoir des variables fatheduc et expr différentes par exemple. "
   ]
  },
  {
   "cell_type": "markdown",
   "metadata": {},
   "source": [
    "### Question 6"
   ]
  },
  {
   "cell_type": "markdown",
   "metadata": {},
   "source": [
    "L’hypothèse fondamentale qui garantit un estimateur des moindres carrés non biaisé est la suivante : aucune des variables ne doit être corrélée avec le terme de résidus (c'est à dire que la variable doit être exogène) et il n’y a pas de multi-colinéarité exacte entre les variables.\n",
    "\n",
    "En considérant un modèle classique y = x.b + e, il y a un biais de variable omise s’il existe une variable qui est corrélée avec x mais aussi y. On doit ceci à un manque de données en général."
   ]
  },
  {
   "cell_type": "markdown",
   "metadata": {},
   "source": [
    "### Question 7"
   ]
  },
  {
   "cell_type": "code",
   "execution_count": 13,
   "metadata": {
    "collapsed": false
   },
   "outputs": [],
   "source": [
    "wage = S(:,7);\n",
    "city = S(:,18);\n",
    "educ = S(:,6);\n",
    "expr = S(:,19);\n",
    "nwifeinc = S(:,20);\n",
    "kidslt6 = S(:,3);\n",
    "kidsge6 = S(:,4);\n",
    "\n",
    "y=wage;\n",
    "[n,K] = size(S);\n",
    "X=[ones(n,1), city, educ, expr, nwifeinc, kidslt6, kidsge6];\n",
    "\n",
    "beta=inv(X'*X)*X'*y;\n",
    "u=y-X*beta;"
   ]
  },
  {
   "cell_type": "markdown",
   "metadata": {},
   "source": [
    "Histogramme des résidus de la régréssion de wage avec les variables explicatives city, educ, exper, nwifeinc, kidslt6, kidsge6. "
   ]
  },
  {
   "cell_type": "code",
   "execution_count": 14,
   "metadata": {
    "collapsed": false
   },
   "outputs": [
    {
     "data": {
      "image/png": "[encoded data removed]",
      "text/plain": [
       "<IPython.core.display.Image object>"
      ]
     },
     "metadata": {},
     "output_type": "display_data"
    },
    {
     "name": "stdout",
     "output_type": "stream",
     "text": [
      "var_residus =\r\n",
      "\r\n",
      "    9.5640\n"
     ]
    }
   ],
   "source": [
    "histogram(u)\n",
    "var_residus = var(u)"
   ]
  },
  {
   "cell_type": "markdown",
   "metadata": {
    "collapsed": true
   },
   "source": [
    "L’histogramme est dissymétrique et la variance très grande. On ne peut donc pas assimiler wage à une loi de gaussienne centrée en 0."
   ]
  },
  {
   "cell_type": "markdown",
   "metadata": {},
   "source": [
    "### Question 8"
   ]
  },
  {
   "cell_type": "code",
   "execution_count": 15,
   "metadata": {
    "collapsed": true
   },
   "outputs": [],
   "source": [
    "y1=log(wage);\n",
    "[n,K] = size(S);\n",
    "X1=[ones(n,1), city, educ, expr, nwifeinc, kidslt6, kidsge6];\n",
    "\n",
    "beta1=inv(X1'*X1)*X1'*y1;\n",
    "u1=y1-X1*beta1;"
   ]
  },
  {
   "cell_type": "markdown",
   "metadata": {},
   "source": [
    "Histogramme des résidus de la régréssion de lwage avec les variables explicatives city, educ, exper, nwifeinc, kidslt6, kidsge6. "
   ]
  },
  {
   "cell_type": "code",
   "execution_count": 16,
   "metadata": {
    "collapsed": false
   },
   "outputs": [
    {
     "data": {
      "image/png": "[encoded data removed]",
      "text/plain": [
       "<IPython.core.display.Image object>"
      ]
     },
     "metadata": {},
     "output_type": "display_data"
    },
    {
     "name": "stdout",
     "output_type": "stream",
     "text": [
      "var_residus =\r\n",
      "\r\n",
      "    0.4417\n"
     ]
    }
   ],
   "source": [
    "histogram(u1)\n",
    "var_residus = var(u1)"
   ]
  },
  {
   "cell_type": "markdown",
   "metadata": {
    "collapsed": true
   },
   "source": [
    "La variance de l’histogramme des résidus est cette fois de 0.44, ce qui est bien plus faible que précédemment. L’histogramme est symétrique, on peut assimiler la variable lwage à une gaussienne centrée."
   ]
  },
  {
   "cell_type": "markdown",
   "metadata": {},
   "source": [
    "### Question 9"
   ]
  },
  {
   "cell_type": "code",
   "execution_count": 17,
   "metadata": {
    "collapsed": true
   },
   "outputs": [],
   "source": [
    "lwage = log(wage);"
   ]
  },
  {
   "cell_type": "markdown",
   "metadata": {},
   "source": [
    "Testons l’hypothèse de non significativité de exper avec des seuils de significativité de 1%, 5% et 10% à l’aide d’un test de Student. \n",
    "\n",
    "Le test de Student se résume à : <br>\n",
    "&nbsp; - Hypothèse 0 : BetaExper = 0 <br>\n",
    "&nbsp; - Hypothèse 1 : BetaExper != 0 <br>"
   ]
  },
  {
   "cell_type": "code",
   "execution_count": 18,
   "metadata": {
    "collapsed": true
   },
   "outputs": [],
   "source": [
    "% H0: BetaExpr = 0\n",
    "\n",
    "y=lwage;\n",
    "[n,K] = size(S);\n",
    "X=[ones(n,1), city, educ, expr, nwifeinc, kidslt6, kidsge6];\n",
    "\n",
    "beta=inv(X'*X)*X'*y;\n",
    "u=y-X*beta;\n",
    "\n",
    "sig2=u'*u/(n-7); \n",
    "std=sqrt(diag(sig2*inv(X'*X)));\n",
    "\n",
    "t=beta./std;"
   ]
  },
  {
   "cell_type": "markdown",
   "metadata": {},
   "source": [
    "Exper est le 4ème paramètre:"
   ]
  },
  {
   "cell_type": "code",
   "execution_count": 19,
   "metadata": {
    "collapsed": false
   },
   "outputs": [
    {
     "name": "stdout",
     "output_type": "stream",
     "text": [
      "t(4) = 3.4517\n"
     ]
    }
   ],
   "source": [
    "% expr est en paramètre 4:\n",
    "disp(['t(4) = ', num2str(t(4))])"
   ]
  },
  {
   "cell_type": "markdown",
   "metadata": {},
   "source": [
    "##### Seuil à 1%"
   ]
  },
  {
   "cell_type": "code",
   "execution_count": 20,
   "metadata": {
    "collapsed": false
   },
   "outputs": [
    {
     "name": "stdout",
     "output_type": "stream",
     "text": [
      "tdis = 2.3352\n"
     ]
    }
   ],
   "source": [
    "disp(['tdis = ', num2str(tdis_inv(0.99, 421))])"
   ]
  },
  {
   "cell_type": "markdown",
   "metadata": {
    "collapsed": true
   },
   "source": [
    "Ici 3,5>2,3 on est donc à droite <br>\n",
    "-> On rejette l'hypothèse à 1% <br>\n",
    "-> betaExpr est différent de 0 <br>"
   ]
  },
  {
   "cell_type": "markdown",
   "metadata": {},
   "source": [
    "##### Seuil à 5%"
   ]
  },
  {
   "cell_type": "code",
   "execution_count": 21,
   "metadata": {
    "collapsed": false
   },
   "outputs": [
    {
     "name": "stdout",
     "output_type": "stream",
     "text": [
      "tdis = 1.6485\n"
     ]
    }
   ],
   "source": [
    "disp(['tdis = ', num2str(tdis_inv(0.95, 421))])"
   ]
  },
  {
   "cell_type": "markdown",
   "metadata": {
    "collapsed": true
   },
   "source": [
    "Ici 3,5>1,6 on est donc à droite <br>\n",
    "-> On rejette l'hypothèse à 5% <br>\n",
    "-> betaExpr est différent de 0 <br>"
   ]
  },
  {
   "cell_type": "markdown",
   "metadata": {},
   "source": [
    "##### Seuil à 10%"
   ]
  },
  {
   "cell_type": "code",
   "execution_count": 22,
   "metadata": {
    "collapsed": false
   },
   "outputs": [
    {
     "name": "stdout",
     "output_type": "stream",
     "text": [
      "tdis = 1.2836\n"
     ]
    }
   ],
   "source": [
    "disp(['tdis = ', num2str(tdis_inv(0.90, 421))])"
   ]
  },
  {
   "cell_type": "markdown",
   "metadata": {
    "collapsed": true
   },
   "source": [
    "Ici 3,5>1,3 on est donc à droite <br>\n",
    "-> On rejette l'hypothèse à 10% <br>\n",
    "-> betaExpr est différent de 0 <br>"
   ]
  },
  {
   "cell_type": "markdown",
   "metadata": {
    "collapsed": true
   },
   "source": [
    "On rejette l'hypothèse dans les trois cas. Donc BetaExper est significaivement non nul à ces seuils de significativité."
   ]
  },
  {
   "cell_type": "markdown",
   "metadata": {},
   "source": [
    "### Question 10"
   ]
  },
  {
   "cell_type": "markdown",
   "metadata": {},
   "source": [
    "Testons désormais l’hypothèse selon laquelle le coefficient associé à educ est égal à 10% avec un seuil de significativité de 5% à l’aide encore une fois d’un test de Student.\n",
    "\n",
    "(On va en fait tester que BetaEduc-0,1 = 0)"
   ]
  },
  {
   "cell_type": "code",
   "execution_count": 23,
   "metadata": {
    "collapsed": false
   },
   "outputs": [],
   "source": [
    "% H0: BetaExpr = 10%\n",
    "t=(beta-0.1)./std;"
   ]
  },
  {
   "cell_type": "markdown",
   "metadata": {},
   "source": [
    "Educ est en 3ème paramètre:"
   ]
  },
  {
   "cell_type": "code",
   "execution_count": 24,
   "metadata": {
    "collapsed": false
   },
   "outputs": [
    {
     "name": "stdout",
     "output_type": "stream",
     "text": [
      "t(3) = 0.14883\r\n",
      "tdis = 1.6484\n"
     ]
    }
   ],
   "source": [
    "disp(['t(3) = ', num2str(t(3))])\n",
    "disp(['tdis = ', num2str(tdis_inv(0.95, 428))])"
   ]
  },
  {
   "cell_type": "markdown",
   "metadata": {
    "collapsed": true
   },
   "source": [
    "Ici 1,6>0,15 on est donc à gauche <br>\n",
    "-> On accepte l'hypothèse à 5% <br>"
   ]
  },
  {
   "cell_type": "markdown",
   "metadata": {},
   "source": [
    "### Question 11"
   ]
  },
  {
   "cell_type": "markdown",
   "metadata": {},
   "source": [
    "Hypothèse: <br>\n",
    "&emsp; betaEduc = 0,1 <br>\n",
    "&emsp; betaExpr = 0,05"
   ]
  },
  {
   "cell_type": "markdown",
   "metadata": {
    "collapsed": true
   },
   "source": [
    "On réalise on test de Fisher: <br>\n",
    "<br>\n",
    "Modèle non contraint : le même que pour la question 8 <br>\n",
    "Modèle contraint : y' = y - 0.05*expr - 0.1*educ <br>\n",
    "<br>\n",
    "Nombre de contraintes = 2"
   ]
  },
  {
   "cell_type": "markdown",
   "metadata": {},
   "source": [
    "##### Modèle non contraint:"
   ]
  },
  {
   "cell_type": "code",
   "execution_count": 25,
   "metadata": {
    "collapsed": false
   },
   "outputs": [
    {
     "name": "stdout",
     "output_type": "stream",
     "text": [
      "ssr0 =\r\n",
      "\r\n",
      "  188.5900\n"
     ]
    }
   ],
   "source": [
    "y0=lwage;\n",
    "[n,K] = size(S);\n",
    "X0=[ones(n,1), city, educ, expr, nwifeinc, kidslt6, kidsge6];\n",
    "\n",
    "beta0=inv(X0'*X0)*X0'*y0;\n",
    "u0=y0-X0*beta0;\n",
    "\n",
    "ssr0=u0'*u0"
   ]
  },
  {
   "cell_type": "markdown",
   "metadata": {},
   "source": [
    "##### Modèle contraint:"
   ]
  },
  {
   "cell_type": "code",
   "execution_count": 26,
   "metadata": {
    "collapsed": false
   },
   "outputs": [
    {
     "name": "stdout",
     "output_type": "stream",
     "text": [
      "ssr1 =\r\n",
      "\r\n",
      "  215.0918\n"
     ]
    }
   ],
   "source": [
    "y1 =  y0 - 0.05*expr - 0.1*educ;\n",
    "X1 = [ones(n,1), city, nwifeinc, kidslt6, kidsge6];\n",
    "\n",
    "beta1 = inv(X1'*X1)*X1'*y1;\n",
    "u1 = y1-X1*beta1;\n",
    "\n",
    "ssr1 = u1'*u1"
   ]
  },
  {
   "cell_type": "markdown",
   "metadata": {},
   "source": [
    "##### Test de Fisher: <br>\n",
    "\n",
    "F = ((ssr1 - ssr0)/nbContraintes)/(ssr0/(nbDegréLibertéNonContraint))"
   ]
  },
  {
   "cell_type": "code",
   "execution_count": 27,
   "metadata": {
    "collapsed": false
   },
   "outputs": [
    {
     "name": "stdout",
     "output_type": "stream",
     "text": [
      "F =\r\n",
      "\r\n",
      "   29.5808\r\n",
      "\r\n",
      "\r\n",
      "p_value =\r\n",
      "\r\n",
      "   9.5355e-13\n"
     ]
    }
   ],
   "source": [
    "F = ((ssr1 - ssr0)/2)/(ssr0/(421))\n",
    "%p valeur\n",
    "p_value = fdis_prb(F,2,421)"
   ]
  },
  {
   "cell_type": "markdown",
   "metadata": {},
   "source": [
    "On rejette l'hypothèse jointe (c'est l'exerience professionnelle qui fait rejetter l'hypothèse car proche de 1,5%)"
   ]
  },
  {
   "cell_type": "markdown",
   "metadata": {},
   "source": [
    "### Question 12"
   ]
  },
  {
   "cell_type": "code",
   "execution_count": 28,
   "metadata": {
    "collapsed": false
   },
   "outputs": [
    {
     "name": "stdout",
     "output_type": "stream",
     "text": [
      "betaExper =\r\n",
      "\r\n",
      "    0.0155\n"
     ]
    }
   ],
   "source": [
    "betaExper = beta0(4)"
   ]
  },
  {
   "cell_type": "markdown",
   "metadata": {},
   "source": [
    "Une année d'espérience augmente de 1,5% le salaire, 10 années d'expérience augmentent donc le salaire de 15%"
   ]
  },
  {
   "cell_type": "markdown",
   "metadata": {},
   "source": [
    "### Question 13"
   ]
  },
  {
   "cell_type": "markdown",
   "metadata": {},
   "source": [
    "On réalise un test de fisher pour tester l'égalité des coefficients associés aux variables kidslt6 et kidsge6"
   ]
  },
  {
   "cell_type": "markdown",
   "metadata": {},
   "source": [
    "##### Modèle non contraint:"
   ]
  },
  {
   "cell_type": "markdown",
   "metadata": {},
   "source": [
    "Toujours le même:"
   ]
  },
  {
   "cell_type": "code",
   "execution_count": 29,
   "metadata": {
    "collapsed": false
   },
   "outputs": [
    {
     "name": "stdout",
     "output_type": "stream",
     "text": [
      "ssr0 =\r\n",
      "\r\n",
      "  188.5900\n"
     ]
    }
   ],
   "source": [
    "ssr0=u0'*u0"
   ]
  },
  {
   "cell_type": "markdown",
   "metadata": {},
   "source": [
    "##### Modèle contraint:"
   ]
  },
  {
   "cell_type": "code",
   "execution_count": 30,
   "metadata": {
    "collapsed": false
   },
   "outputs": [
    {
     "name": "stdout",
     "output_type": "stream",
     "text": [
      "ssr1 =\r\n",
      "\r\n",
      "  188.6519\n"
     ]
    }
   ],
   "source": [
    "y1 = lwage;\n",
    "X1 = [ones(n,1), city, educ, expr, nwifeinc, kidslt6+kidsge6];\n",
    "beta1 = inv(X1'*X1)*X1'*y1;\n",
    "u1 = y1 - X1*beta1;\n",
    "ssr1 = u1'*u1"
   ]
  },
  {
   "cell_type": "markdown",
   "metadata": {},
   "source": [
    "##### Test de Fisher:<br>\n",
    "F = ((ssr1 - ssr0)/1)/(ssr0/(421))"
   ]
  },
  {
   "cell_type": "code",
   "execution_count": 31,
   "metadata": {
    "collapsed": false
   },
   "outputs": [
    {
     "name": "stdout",
     "output_type": "stream",
     "text": [
      "F =\r\n",
      "\r\n",
      "    0.1382\r\n",
      "\r\n",
      "\r\n",
      "p_value =\r\n",
      "\r\n",
      "    0.7103\n"
     ]
    }
   ],
   "source": [
    "F = ((ssr1 - ssr0)/1)/(ssr0/(421))\n",
    "p_value = fdis_prb(F,1,421)"
   ]
  },
  {
   "cell_type": "markdown",
   "metadata": {},
   "source": [
    "On accepte l'hypothèse."
   ]
  },
  {
   "cell_type": "markdown",
   "metadata": {},
   "source": [
    "### Question 14"
   ]
  },
  {
   "cell_type": "markdown",
   "metadata": {},
   "source": [
    "On réalise un test d'hétéroscédasticité de forme linéaire."
   ]
  },
  {
   "cell_type": "markdown",
   "metadata": {},
   "source": [
    "On réalise un test de Fisher: <br>\n",
    "\n",
    "Modele utilisé: u2 = delta0 + delta*X + mu <br>\n",
    "Avec u2 le carré des résidus\n",
    "\n",
    "Ho : delta1 = delta2 = delta3 = 0"
   ]
  },
  {
   "cell_type": "markdown",
   "metadata": {},
   "source": [
    "Modèle non contraint:"
   ]
  },
  {
   "cell_type": "code",
   "execution_count": 40,
   "metadata": {
    "collapsed": false
   },
   "outputs": [
    {
     "name": "stdout",
     "output_type": "stream",
     "text": [
      "ssr0 =\r\n",
      "\r\n",
      "   7.5618e+05\n"
     ]
    }
   ],
   "source": [
    "y = wage;\n",
    "X = [ones(n,1), city, educ, expr, nwifeinc, kidslt6, kidsge6];\n",
    "[n,k] = size(X);\n",
    "\n",
    "beta = inv(X'*X)*X'*y;\n",
    "u = y-X*beta;\n",
    "\n",
    "u2 = u.^2;\n",
    "%u2 est la variance empirique !\n",
    "\n",
    "delta = inv(X'*X)*X'*u2;\n",
    "residu = u2 - X*delta;\n",
    "\n",
    "ssr0 = residu'*residu"
   ]
  },
  {
   "cell_type": "markdown",
   "metadata": {},
   "source": [
    "Modèle contraint:"
   ]
  },
  {
   "cell_type": "code",
   "execution_count": 41,
   "metadata": {
    "collapsed": false
   },
   "outputs": [
    {
     "name": "stdout",
     "output_type": "stream",
     "text": [
      "ssrc =\r\n",
      "\r\n",
      "   7.7335e+05\n"
     ]
    }
   ],
   "source": [
    "uc = u2;\n",
    "Xc = ones(n,1);\n",
    "delta = inv(Xc'*Xc)*Xc'*uc;\n",
    "residuc = uc - Xc*delta;\n",
    "ssrc = residuc'*residuc"
   ]
  },
  {
   "cell_type": "markdown",
   "metadata": {},
   "source": [
    "Fisher:"
   ]
  },
  {
   "cell_type": "code",
   "execution_count": 42,
   "metadata": {
    "collapsed": false
   },
   "outputs": [
    {
     "name": "stdout",
     "output_type": "stream",
     "text": [
      "F =\r\n",
      "\r\n",
      "    1.5926\r\n",
      "\r\n",
      "\r\n",
      "p_value =\r\n",
      "\r\n",
      "    0.1477\n"
     ]
    }
   ],
   "source": [
    "F = ((ssrc - ssr0)/6)/(ssr0/(421))\n",
    "%on utilise fdis_prb(F, nbcontraintes, n-k), pour trouver la p-value\n",
    "p_value = fdis_prb(F,6,421)"
   ]
  },
  {
   "cell_type": "markdown",
   "metadata": {},
   "source": [
    "On accepte l'hypothèse selon laquelle les paramètres n'influent pas la variance, il y a homoscédasticité."
   ]
  },
  {
   "cell_type": "markdown",
   "metadata": {},
   "source": [
    "On regarde la statistique de student de chaque variable"
   ]
  },
  {
   "cell_type": "code",
   "execution_count": 43,
   "metadata": {
    "collapsed": false
   },
   "outputs": [
    {
     "name": "stdout",
     "output_type": "stream",
     "text": [
      "t =\r\n",
      "\r\n",
      "    0.7278\r\n",
      "    2.1472\r\n",
      "    9.9779\r\n",
      "   33.5824\r\n",
      "   45.2405\r\n",
      "    1.7664\r\n",
      "    5.5924\n"
     ]
    }
   ],
   "source": [
    "sig2 = residu'*residu/(n-k);\n",
    "std = sqrt(diag(sig2*inv(X'*X)));\n",
    "t = delta./std"
   ]
  },
  {
   "cell_type": "markdown",
   "metadata": {},
   "source": [
    "On va donc corriger le modèle par rapport à la variable dont la statistique de student est la plus élevée, ici la 5ème variable, qui est nwifeinc (revenu de la famille hormis celui de la femme)<br>\n",
    "<br>\n",
    "On va alors diviser toutes les variable par l'écart-type de la variable nwifeinc et afficher les nouveaux écarts-types."
   ]
  },
  {
   "cell_type": "code",
   "execution_count": 36,
   "metadata": {
    "collapsed": false
   },
   "outputs": [
    {
     "name": "stdout",
     "output_type": "stream",
     "text": [
      "SSR =\r\n",
      "\r\n",
      "   3.7438e+03\r\n",
      "\r\n",
      "\r\n",
      "SSRc =\r\n",
      "\r\n",
      "   2.0752e+03\r\n",
      "\r\n",
      "\r\n",
      "F =\r\n",
      "\r\n",
      "  -31.2733\n"
     ]
    }
   ],
   "source": [
    "Y_corrige = y./sqrt(nwifeinc);\n",
    "X_corrige = [ones(n,1)./sqrt(nwifeinc), city./sqrt(nwifeinc), educ./sqrt(nwifeinc), expr./sqrt(nwifeinc), nwifeinc./sqrt(nwifeinc), kidslt6./sqrt(nwifeinc), kidsge6./sqrt(nwifeinc)];\n",
    "beta = inv(X_corrige'*X_corrige)*X_corrige'*Y_corrige;\n",
    "u = Y_corrige-X_corrige*beta;\n",
    "\n",
    "[n,k]=size(X_corrige);\n",
    "\n",
    "u2 = u.^2;\n",
    "\n",
    "delta = inv(X_corrige'*X_corrige)*X_corrige'*u2;\n",
    "residu = u2 - X*delta;\n",
    "\n",
    "SSR = residu'*residu\n",
    "\n",
    "q=6;\n",
    "uc = u2;\n",
    "Xc = ones(n,1)./sqrt(nwifeinc);\n",
    "deltac = inv(Xc'*Xc)*Xc'*uc;\n",
    "residuc = uc - Xc*deltac;\n",
    "SSRc = residuc'*residuc\n",
    "F = ((SSRc - SSR)/q)/(SSR/(n-k))\n",
    "%on utilise fdis_prb(F, nbcontraintes, n-k), pour trouver la p-value\n",
    "%fdis_prb(F,q,n-k)"
   ]
  },
  {
   "cell_type": "markdown",
   "metadata": {},
   "source": [
    "-> PB, lorsqu'on corrige me modèle on trouve un F négatif, il y a un problème quelque part."
   ]
  },
  {
   "cell_type": "markdown",
   "metadata": {},
   "source": [
    "### Question 15"
   ]
  },
  {
   "cell_type": "markdown",
   "metadata": {},
   "source": [
    "On crée une nouvelle variable binaire à partir de la condidtion kidslt6 >= 2\n",
    "On ne prend pas d'égalité stricte car dans nos observations, aucune femme ayant un salaire a strictement plus que 2 enfants de moins de 6 ans. "
   ]
  },
  {
   "cell_type": "code",
   "execution_count": 62,
   "metadata": {
    "collapsed": false
   },
   "outputs": [],
   "source": [
    "q15 = ones(n,1);\n",
    "\n",
    "for k=1:n\n",
    "\n",
    "    if kidslt6(k) >= 2\n",
    "        q15(k) = 1;\n",
    "    else\n",
    "        q15(k) = 0;\n",
    "    end   \n",
    "end"
   ]
  },
  {
   "cell_type": "code",
   "execution_count": 79,
   "metadata": {
    "collapsed": true
   },
   "outputs": [],
   "source": [
    "M6city = city.*q15;\n",
    "M6educ = educ.*q15;\n",
    "M6expr = expr.*q15;\n",
    "M6nwifeinc = nwifeinc.*q15;\n",
    "M6kidsge6 = kidsge6.*q15;"
   ]
  },
  {
   "cell_type": "markdown",
   "metadata": {},
   "source": [
    "##### Modèle non contraint"
   ]
  },
  {
   "cell_type": "code",
   "execution_count": 80,
   "metadata": {
    "collapsed": false
   },
   "outputs": [
    {
     "name": "stdout",
     "output_type": "stream",
     "text": [
      "ssr0 =\r\n",
      "\r\n",
      "  187.7624\n"
     ]
    }
   ],
   "source": [
    "y0=lwage;\n",
    "[n,K] = size(S);\n",
    "X0=[ones(n,1), city, M6city, educ, M6educ, expr, M6expr, nwifeinc, M6nwifeinc, kidslt6, kidsge6, M6kidsge6];\n",
    "\n",
    "beta0=inv(X0'*X0)*X0'*y0;\n",
    "u0=y0-X0*beta0;\n",
    "\n",
    "ssr0=u0'*u0"
   ]
  },
  {
   "cell_type": "markdown",
   "metadata": {},
   "source": [
    "##### Modèle contraint"
   ]
  },
  {
   "cell_type": "code",
   "execution_count": 81,
   "metadata": {
    "collapsed": false
   },
   "outputs": [
    {
     "name": "stdout",
     "output_type": "stream",
     "text": [
      "ssr1 =\r\n",
      "\r\n",
      "  188.5900\n"
     ]
    }
   ],
   "source": [
    "y1=lwage;\n",
    "X1=[ones(n,1), city, educ, expr, nwifeinc, kidslt6, kidsge6];\n",
    "\n",
    "beta1=inv(X1'*X1)*X1'*y1;\n",
    "\n",
    "u1=y1-X1*beta1;\n",
    "\n",
    "ssr1=u1'*u1"
   ]
  },
  {
   "cell_type": "markdown",
   "metadata": {},
   "source": [
    "##### Test de Fisher:<br>\n",
    "<br>\n",
    "F=((ssr1-ssr0)/6)/(ssr0/415);<br>\n",
    "<br>\n",
    "On perd 5 degré de liberté du modèle non contraint au modèle contraint car on fixe M6city = M6educM6expr = M6nwifein = M6kidsge6 = 0<br>\n",
    "Dans le modèle non contraint on a 428 observation et 12 paramètres."
   ]
  },
  {
   "cell_type": "code",
   "execution_count": 83,
   "metadata": {
    "collapsed": false
   },
   "outputs": [
    {
     "name": "stdout",
     "output_type": "stream",
     "text": [
      "F =\r\n",
      "\r\n",
      "    0.3667\r\n",
      "\r\n",
      "\r\n",
      "p_value =\r\n",
      "\r\n",
      "    0.8713\n"
     ]
    }
   ],
   "source": [
    "F=((ssr1-ssr0)/5)/(ssr0/416)\n",
    "p_value = fdis_prb(F,5,416)"
   ]
  },
  {
   "cell_type": "markdown",
   "metadata": {},
   "source": [
    "Selon la p_value, on rejette l'hypothèse d'une différence entre les femmes ayant plus ou moins de 2 enfants de moins de 6 ans."
   ]
  },
  {
   "cell_type": "markdown",
   "metadata": {},
   "source": [
    "### Question 16"
   ]
  },
  {
   "cell_type": "markdown",
   "metadata": {},
   "source": [
    "On binarise les variables suivantes:<br>\n",
    " - 0 enfant de moins de 6ans (M6_0)<br>\n",
    " - 1 enfant de moins de 6ans (M6_1)<br>\n",
    " - 2 enfants de moins de 6ans (M6_2)<br>"
   ]
  },
  {
   "cell_type": "code",
   "execution_count": 93,
   "metadata": {
    "collapsed": false
   },
   "outputs": [],
   "source": [
    "M6_0 = ones(n,1);\n",
    "M6_1 = ones(n,1);\n",
    "M6_2 = ones(n,1);\n",
    "\n",
    "for k=1:n\n",
    "\n",
    "    if kidslt6(k) == 0\n",
    "        M6_0(k) = 1;\n",
    "        M6_1(k) = 0;\n",
    "        M6_2(k) = 0;\n",
    "        \n",
    "    elseif kidslt6(k) == 1\n",
    "        M6_0(k) = 0;\n",
    "        M6_1(k) = 1;\n",
    "        M6_2(k) = 0;\n",
    "        \n",
    "    else\n",
    "        M6_0(k) = 0;\n",
    "        M6_1(k) = 0;\n",
    "        M6_2(k) = 1;\n",
    "        \n",
    "    end \n",
    "    \n",
    "end"
   ]
  },
  {
   "cell_type": "markdown",
   "metadata": {},
   "source": [
    "On refait la régression de lwage sur ces variable comme à la question 8 et on en fait l'histogramme des résidus. <br>\n",
    "On fait donc la régression sur:\n",
    "X=[ones(n,1), city, educ, expr, nwifeinc, kidsge6, M6_1, M6_2]<br>\n",
    "On prend comme référnce les femme n'ayant pas d'enfant de moins de 6 ans (lorsqu'on rajoute M6_0 à la régression on a un gros problème de colinéarité et les resultats sont aberrants)\n"
   ]
  },
  {
   "cell_type": "code",
   "execution_count": 101,
   "metadata": {
    "collapsed": false
   },
   "outputs": [
    {
     "data": {
      "image/png": "[encoded data removed]",
      "text/plain": [
       "<IPython.core.display.Image object>"
      ]
     },
     "metadata": {},
     "output_type": "display_data"
    },
    {
     "name": "stdout",
     "output_type": "stream",
     "text": [
      "var_residus =\r\n",
      "\r\n",
      "    0.4416\n"
     ]
    }
   ],
   "source": [
    "y=lwage;\n",
    "[n,K] = size(S);\n",
    "X=[ones(n,1), city, educ, expr, nwifeinc, kidsge6, M6_1, M6_2];\n",
    "\n",
    "beta=inv(X'*X)*X'*y;\n",
    "u=y-X*beta;\n",
    "\n",
    "histogram(u)\n",
    "var_residus = var(u)"
   ]
  },
  {
   "cell_type": "markdown",
   "metadata": {},
   "source": [
    "Les catégories utilisées sont mutuellement exclusives, en effet on ne peut pas avoir 1 enfant de moins de 6 ans ET 2 enfants de moins de 6 ans.\n",
    "En revanche on peut avoir 0, 1 ou 2 enfants de moins de 6 ans et des enfants de plus de 6 ans."
   ]
  },
  {
   "cell_type": "markdown",
   "metadata": {},
   "source": [
    "Les coefficients sont:"
   ]
  },
  {
   "cell_type": "code",
   "execution_count": 102,
   "metadata": {
    "collapsed": false
   },
   "outputs": [
    {
     "name": "stdout",
     "output_type": "stream",
     "text": [
      "beta =\r\n",
      "\r\n",
      "   -0.3976\r\n",
      "    0.0346\r\n",
      "    0.1022\r\n",
      "    0.0154\r\n",
      "    0.0049\r\n",
      "   -0.0116\r\n",
      "   -0.0540\r\n",
      "   -0.0650\n"
     ]
    }
   ],
   "source": [
    "beta"
   ]
  },
  {
   "cell_type": "markdown",
   "metadata": {},
   "source": [
    "Avoir 1 enfant de moins de 6 ans fait baisser le salaire de 5,4% et en avoir deux de 6,5% par rapport au fait de ne pas avoir d'enfants de moins de 6 ans."
   ]
  },
  {
   "cell_type": "markdown",
   "metadata": {},
   "source": [
    "##### Test de non significativité des variables binaires"
   ]
  },
  {
   "cell_type": "markdown",
   "metadata": {},
   "source": [
    "Modèle non contraint:"
   ]
  },
  {
   "cell_type": "code",
   "execution_count": 103,
   "metadata": {
    "collapsed": false
   },
   "outputs": [
    {
     "name": "stdout",
     "output_type": "stream",
     "text": [
      "ssr0 =\r\n",
      "\r\n",
      "  188.5822\n"
     ]
    }
   ],
   "source": [
    "ssr0=u'*u"
   ]
  },
  {
   "cell_type": "markdown",
   "metadata": {},
   "source": [
    "Modèle contraint:"
   ]
  },
  {
   "cell_type": "code",
   "execution_count": 104,
   "metadata": {
    "collapsed": false
   },
   "outputs": [
    {
     "name": "stdout",
     "output_type": "stream",
     "text": [
      "ssr1 =\r\n",
      "\r\n",
      "  188.7163\n"
     ]
    }
   ],
   "source": [
    "y=lwage;\n",
    "[n,K] = size(S);\n",
    "X1=[ones(n,1), city, educ, expr, nwifeinc, kidsge6];\n",
    "\n",
    "beta1=inv(X1'*X1)*X1'*y;\n",
    "u1=y-X1*beta1;\n",
    "\n",
    "ssr1=u1'*u1"
   ]
  },
  {
   "cell_type": "markdown",
   "metadata": {},
   "source": [
    "Test de Fisher:"
   ]
  },
  {
   "cell_type": "code",
   "execution_count": 106,
   "metadata": {
    "collapsed": false
   },
   "outputs": [
    {
     "name": "stdout",
     "output_type": "stream",
     "text": [
      "F =\r\n",
      "\r\n",
      "    0.1494\r\n",
      "\r\n",
      "\r\n",
      "p_value =\r\n",
      "\r\n",
      "    0.8613\n"
     ]
    }
   ],
   "source": [
    "F=((ssr1-ssr0)/2)/(ssr0/420)\n",
    "p_value = fdis_prb(F,2,420)"
   ]
  },
  {
   "cell_type": "markdown",
   "metadata": {},
   "source": [
    "On ne rejette pas l'hypothèse de non significativité des variables binaires. "
   ]
  },
  {
   "cell_type": "markdown",
   "metadata": {},
   "source": [
    "### Question 17<br>\n",
    "\n",
    "Nous n'avons pas variables donnant une information sur l'âge des enfants et nous permettant de créer une variable binaire pour les femmes ayant des enfants de moins de 2 ans."
   ]
  },
  {
   "cell_type": "markdown",
   "metadata": {},
   "source": [
    "## Partie 2. Séries temporelles"
   ]
  },
  {
   "cell_type": "markdown",
   "metadata": {},
   "source": [
    "### Question1\n",
    "On importe le fichier VOLAT.RAW après avoir recodé les valeurs manquantes."
   ]
  },
  {
   "cell_type": "code",
   "execution_count": 1,
   "metadata": {
    "collapsed": false
   },
   "outputs": [],
   "source": [
    "load VOLAT.RAW"
   ]
  },
  {
   "cell_type": "markdown",
   "metadata": {},
   "source": [
    "### Question 2\n",
    "\n",
    "On doit stationnariser les séries car la stationnarité est une hypothèse du théorème ergodique."
   ]
  },
  {
   "cell_type": "markdown",
   "metadata": {},
   "source": [
    "### Question 3"
   ]
  },
  {
   "cell_type": "code",
   "execution_count": 2,
   "metadata": {
    "collapsed": false
   },
   "outputs": [],
   "source": [
    "lsp500 = log(VOLAT(:,2));\n",
    "pcsp = VOLAT(:,6);\n",
    "div = VOLAT(:,3);\n",
    "[n,k] =size(VOLAT);"
   ]
  },
  {
   "cell_type": "markdown",
   "metadata": {},
   "source": [
    "##### Pour log(sp500):"
   ]
  },
  {
   "cell_type": "code",
   "execution_count": 3,
   "metadata": {
    "collapsed": false
   },
   "outputs": [
    {
     "name": "stdout",
     "output_type": "stream",
     "text": [
      "reso = \r\n",
      "\r\n",
      "     meth: 'ols'\r\n",
      "        y: [557x1 double]\r\n",
      "     nobs: 557\r\n",
      "     nvar: 1\r\n",
      "     beta: 0.0013\r\n",
      "     yhat: [557x1 double]\r\n",
      "    resid: [557x1 double]\r\n",
      "     sige: 0.0011\r\n",
      "     bstd: 3.1774e-04\r\n",
      "     bint: [6.6981e-04 0.0019]\r\n",
      "    tstat: 4.0723\r\n",
      "     rsqr: -0.0026\r\n",
      "     rbar: -0.0026\r\n",
      "       dw: 1.5083\n"
     ]
    }
   ],
   "source": [
    "lsp500_0 = lsp500(2:n);\n",
    "lsp500_1 = lsp500(1:n-1);\n",
    "d_lsp500 = lsp500_0 - lsp500_1; \n",
    "reso = ols(d_lsp500, lsp500_1)"
   ]
  },
  {
   "cell_type": "markdown",
   "metadata": {
    "collapsed": true
   },
   "source": [
    "Notre tstat est à droite de la tstat tabulée (-2,86) dans le cours (on fait un test à seul côté, à gauche) donc on accepte le test de racine unitaire. "
   ]
  },
  {
   "cell_type": "markdown",
   "metadata": {},
   "source": [
    "##### Pour pcsp:"
   ]
  },
  {
   "cell_type": "code",
   "execution_count": 3,
   "metadata": {
    "collapsed": false
   },
   "outputs": [
    {
     "name": "stdout",
     "output_type": "stream",
     "text": [
      "reso = \r\n",
      "\r\n",
      "     meth: 'ols'\r\n",
      "        y: [557x1 double]\r\n",
      "     nobs: 557\r\n",
      "     nvar: 1\r\n",
      "     beta: -1.0021\r\n",
      "     yhat: [557x1 double]\r\n",
      "    resid: [557x1 double]\r\n",
      "     sige: 1.6894e+03\r\n",
      "     bstd: 0.0041\r\n",
      "     bint: [-1.0101 -0.9941]\r\n",
      "    tstat: -244.9288\r\n",
      "     rsqr: 0.9908\r\n",
      "     rbar: 0.9908\r\n",
      "       dw: 1.4534\n"
     ]
    }
   ],
   "source": [
    "pcsp_0 = pcsp(2:n);\n",
    "pcsp_1 = pcsp(1:n-1);\n",
    "d_pcsp = pcsp_0 - pcsp_1; \n",
    "reso = ols(d_pcsp, pcsp_1)"
   ]
  },
  {
   "cell_type": "markdown",
   "metadata": {},
   "source": [
    "Notre tstat est totalement à gauche de la tstat tabulée dans le cours donc on rejette le test de racine unitaire. "
   ]
  },
  {
   "cell_type": "markdown",
   "metadata": {},
   "source": [
    "##### Pour div:"
   ]
  },
  {
   "cell_type": "code",
   "execution_count": 4,
   "metadata": {
    "collapsed": false
   },
   "outputs": [
    {
     "name": "stdout",
     "output_type": "stream",
     "text": [
      "reso = \r\n",
      "\r\n",
      "     meth: 'ols'\r\n",
      "        y: [557x1 double]\r\n",
      "     nobs: 557\r\n",
      "     nvar: 1\r\n",
      "     beta: -0.0013\r\n",
      "     yhat: [557x1 double]\r\n",
      "    resid: [557x1 double]\r\n",
      "     sige: 0.0271\r\n",
      "     bstd: 0.0016\r\n",
      "     bint: [-0.0045 0.0019]\r\n",
      "    tstat: -0.8185\r\n",
      "     rsqr: 8.6776e-04\r\n",
      "     rbar: 8.6776e-04\r\n",
      "       dw: 1.5808\n"
     ]
    }
   ],
   "source": [
    "div_0 = div(2:n);\n",
    "div_1 = div(1:n-1);\n",
    "d_div = div_0 - div_1; \n",
    "reso = ols(d_div, div_1)"
   ]
  },
  {
   "cell_type": "markdown",
   "metadata": {},
   "source": [
    "Notre tstat est à droite de la tstat tabulée dans le cours donc on accepte le test de racine unitaire. "
   ]
  },
  {
   "cell_type": "markdown",
   "metadata": {},
   "source": [
    "### Question 4"
   ]
  },
  {
   "cell_type": "markdown",
   "metadata": {},
   "source": [
    "Pour pcsp:"
   ]
  },
  {
   "cell_type": "code",
   "execution_count": 9,
   "metadata": {
    "collapsed": false
   },
   "outputs": [
    {
     "data": {
      "image/png": "[encoded data removed]",
      "text/plain": [
       "<IPython.core.display.Image object>"
      ]
     },
     "metadata": {},
     "output_type": "display_data"
    }
   ],
   "source": [
    "acf=sacf(pcsp,20);"
   ]
  },
  {
   "cell_type": "code",
   "execution_count": 10,
   "metadata": {
    "collapsed": false
   },
   "outputs": [
    {
     "data": {
      "image/png": "[encoded data removed]",
      "text/plain": [
       "<IPython.core.display.Image object>"
      ]
     },
     "metadata": {},
     "output_type": "display_data"
    }
   ],
   "source": [
    "pacf=spacf(pcsp,20);"
   ]
  },
  {
   "cell_type": "markdown",
   "metadata": {},
   "source": [
    "On ne remarque pas d'autoccorélation pour cette série"
   ]
  },
  {
   "cell_type": "markdown",
   "metadata": {},
   "source": [
    "Pour div:"
   ]
  },
  {
   "cell_type": "code",
   "execution_count": 11,
   "metadata": {
    "collapsed": false
   },
   "outputs": [
    {
     "data": {
      "image/png": "[encoded data removed]",
      "text/plain": [
       "<IPython.core.display.Image object>"
      ]
     },
     "metadata": {},
     "output_type": "display_data"
    }
   ],
   "source": [
    "acf=sacf(div,20);"
   ]
  },
  {
   "cell_type": "code",
   "execution_count": 12,
   "metadata": {
    "collapsed": false
   },
   "outputs": [
    {
     "data": {
      "image/png": "[encoded data removed]",
      "text/plain": [
       "<IPython.core.display.Image object>"
      ]
     },
     "metadata": {},
     "output_type": "display_data"
    }
   ],
   "source": [
    "pacf=spacf(div,20);"
   ]
  },
  {
   "cell_type": "markdown",
   "metadata": {},
   "source": [
    "Nous avons une autocorrélation d'ordre 1 et 2"
   ]
  },
  {
   "cell_type": "markdown",
   "metadata": {},
   "source": [
    "L'autocorrélation quantifie l’influence linéaire du décalage temporel entre deux observations\n",
    "du processus par un calcul classique de corrélation alors que l'autocorrélation partielle permet de connaître l’influence exacte d’une observation passée sur la valeur courante du processus en ôtant de l’étude toutes les observations intermédiaires"
   ]
  },
  {
   "cell_type": "markdown",
   "metadata": {},
   "source": [
    "### Question 5"
   ]
  },
  {
   "cell_type": "markdown",
   "metadata": {},
   "source": [
    "On test AR(1):"
   ]
  },
  {
   "cell_type": "code",
   "execution_count": 10,
   "metadata": {
    "collapsed": false
   },
   "outputs": [
    {
     "name": "stdout",
     "output_type": "stream",
     "text": [
      "AIC1 =\r\n",
      "\r\n",
      "   -7.2179\r\n",
      "\r\n",
      "\r\n",
      "BIC1 =\r\n",
      "\r\n",
      "   -7.2101\n"
     ]
    }
   ],
   "source": [
    "res = ar(div,1);\n",
    "res.sige;\n",
    "AIC1 = log((res.sige)^2)+2*1/n\n",
    "BIC1 = log((res.sige)^2) + log(n) * 1 /n"
   ]
  },
  {
   "cell_type": "markdown",
   "metadata": {},
   "source": [
    "On teste AR(2):"
   ]
  },
  {
   "cell_type": "code",
   "execution_count": 11,
   "metadata": {
    "collapsed": false
   },
   "outputs": [
    {
     "name": "stdout",
     "output_type": "stream",
     "text": [
      "AIC2 =\r\n",
      "\r\n",
      "   -7.3038\r\n",
      "\r\n",
      "\r\n",
      "BIC2 =\r\n",
      "\r\n",
      "   -7.2882\n"
     ]
    }
   ],
   "source": [
    "res2 = ar(div,2);\n",
    "AIC2 = log((res2.sige)^2)+2*2/n\n",
    "BIC2 = log((res2.sige)^2) + log(n) * 2 /n"
   ]
  },
  {
   "cell_type": "markdown",
   "metadata": {},
   "source": [
    "On test AR(5)"
   ]
  },
  {
   "cell_type": "code",
   "execution_count": 12,
   "metadata": {
    "collapsed": false
   },
   "outputs": [
    {
     "name": "stdout",
     "output_type": "stream",
     "text": [
      "AIC5 =\r\n",
      "\r\n",
      "   -7.3180\r\n",
      "\r\n",
      "\r\n",
      "BIC5 =\r\n",
      "\r\n",
      "   -7.2791\n"
     ]
    }
   ],
   "source": [
    "res5 = ar(div,5);\n",
    "AIC5 = log((res5.sige)^2)+2*5/n\n",
    "BIC5 = log((res5.sige)^2) + log(n) * 5 /n"
   ]
  },
  {
   "cell_type": "markdown",
   "metadata": {},
   "source": [
    "Si on se fie au BIC qui pénalise les modèles compliqués, c'est le modèle AR(2) qui serait le bon."
   ]
  },
  {
   "cell_type": "markdown",
   "metadata": {},
   "source": [
    "### Question 6"
   ]
  },
  {
   "cell_type": "code",
   "execution_count": 40,
   "metadata": {
    "collapsed": false
   },
   "outputs": [
    {
     "name": "stdout",
     "output_type": "stream",
     "text": [
      "Tplus1 =\r\n",
      "\r\n",
      "    2.8475\n"
     ]
    }
   ],
   "source": [
    "Tplus1 = [1,div(n),div(n-1)]*res2.beta "
   ]
  },
  {
   "cell_type": "code",
   "execution_count": 42,
   "metadata": {
    "collapsed": false
   },
   "outputs": [
    {
     "name": "stdout",
     "output_type": "stream",
     "text": [
      "Tplus2 =\r\n",
      "\r\n",
      "    2.8677\n"
     ]
    }
   ],
   "source": [
    "Tplus2 = [1,Tplus1,div(n)]*res2.beta "
   ]
  },
  {
   "cell_type": "code",
   "execution_count": 43,
   "metadata": {
    "collapsed": false
   },
   "outputs": [
    {
     "name": "stdout",
     "output_type": "stream",
     "text": [
      "Tplus3 =\r\n",
      "\r\n",
      "    2.8861\n"
     ]
    }
   ],
   "source": [
    "Tplus3 = [1,Tplus2,Tplus1]*res2.beta "
   ]
  },
  {
   "cell_type": "markdown",
   "metadata": {},
   "source": [
    "On calcul l'erreur pour une prévision à t+1:"
   ]
  },
  {
   "cell_type": "code",
   "execution_count": 68,
   "metadata": {
    "collapsed": false
   },
   "outputs": [
    {
     "name": "stdout",
     "output_type": "stream",
     "text": [
      "RMSE =\r\n",
      "\r\n",
      "    0.0258\n"
     ]
    }
   ],
   "source": [
    "[n,p] = size(div);\n",
    "prev_div = ones(n,1);\n",
    "\n",
    "for k=3:n \n",
    "\n",
    "    prev_div(k) = [1,div(k-1),div(k-2)]*res2.beta;\n",
    "    \n",
    "end\n",
    "\n",
    "S = 0;\n",
    "\n",
    "for i=3:n\n",
    "    \n",
    "    S = S + (div(i) - prev_div(i))^2;\n",
    "    \n",
    "end\n",
    "\n",
    "RMSE = S*(1/(n-3))"
   ]
  },
  {
   "cell_type": "markdown",
   "metadata": {},
   "source": [
    "On calcul l'erreur pour une prévision à t+2:"
   ]
  },
  {
   "cell_type": "code",
   "execution_count": 70,
   "metadata": {
    "collapsed": false
   },
   "outputs": [
    {
     "name": "stdout",
     "output_type": "stream",
     "text": [
      "RMSE =\r\n",
      "\r\n",
      "    0.0642\n"
     ]
    }
   ],
   "source": [
    "[n,p] = size(div);\n",
    "prev_div = ones(n,1);\n",
    "\n",
    "for k=4:n \n",
    "    \n",
    "    temp = [1,div(k-2),div(k-3)]*res2.beta;\n",
    "    prev_div(k) = [1,temp,div(k-2)]*res2.beta;\n",
    "    \n",
    "end\n",
    "\n",
    "S = 0;\n",
    "\n",
    "for i=4:n\n",
    "    \n",
    "    S = S + (div(i) - prev_div(i))^2;\n",
    "    \n",
    "end\n",
    "\n",
    "RMSE = S*(1/(n-4))"
   ]
  },
  {
   "cell_type": "markdown",
   "metadata": {},
   "source": [
    "On calcul l'erreur de prévision à t+3:"
   ]
  },
  {
   "cell_type": "code",
   "execution_count": 71,
   "metadata": {
    "collapsed": false
   },
   "outputs": [
    {
     "name": "stdout",
     "output_type": "stream",
     "text": [
      "RMSE =\r\n",
      "\r\n",
      "    0.0991\n"
     ]
    }
   ],
   "source": [
    "[n,p] = size(div);\n",
    "prev_div = ones(n,1);\n",
    "\n",
    "for k=5:n \n",
    "    \n",
    "    temp1 = [1,div(k-3),div(k-4)]*res2.beta;\n",
    "    temp2 = [1,temp1,div(k-3)]*res2.beta;\n",
    "    prev_div(k) = [1,temp2,temp1]*res2.beta;\n",
    "    \n",
    "end\n",
    "\n",
    "S = 0;\n",
    "\n",
    "for i=5:n\n",
    "    \n",
    "    S = S + (div(i) - prev_div(i))^2;\n",
    "    \n",
    "end\n",
    "\n",
    "RMSE = S*(1/(n-5))"
   ]
  },
  {
   "cell_type": "markdown",
   "metadata": {},
   "source": [
    "## Modèle VAR"
   ]
  },
  {
   "cell_type": "markdown",
   "metadata": {},
   "source": [
    "Nous n'avons pas vu se modèle en cours. Nous avons tout de même tenté de répondre aux questions."
   ]
  },
  {
   "cell_type": "markdown",
   "metadata": {},
   "source": [
    "![VAR](img/VAR.jpg)"
   ]
  },
  {
   "cell_type": "code",
   "execution_count": null,
   "metadata": {
    "collapsed": true
   },
   "outputs": [],
   "source": []
  }
 ],
 "metadata": {
  "kernelspec": {
   "display_name": "Matlab",
   "language": "matlab",
   "name": "matlab"
  },
  "language_info": {
   "codemirror_mode": "octave",
   "file_extension": ".m",
   "help_links": [
    {
     "text": "MetaKernel Magics",
     "url": "https://github.com/calysto/metakernel/blob/master/metakernel/magics/README.md"
    }
   ],
   "mimetype": "text/x-octave",
   "name": "matlab",
   "version": "0.11.0"
  }
 },
 "nbformat": 4,
 "nbformat_minor": 0
}
